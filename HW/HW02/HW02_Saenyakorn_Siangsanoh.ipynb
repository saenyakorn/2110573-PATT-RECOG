{
 "cells": [
  {
   "cell_type": "markdown",
   "metadata": {},
   "source": [
    "# Homework 2 MLE and Naive Bayes"
   ]
  },
  {
   "cell_type": "markdown",
   "metadata": {},
   "source": [
    "6232035721 Saenyakorn Siangsanoh"
   ]
  },
  {
   "cell_type": "markdown",
   "metadata": {},
   "source": [
    "## MLE\n",
    "\n",
    "Consider the following very simple model for stock pricing. The price at the end\n",
    "of each day is the price of the previous day multiplied by a fixed, but unknown,\n",
    "rate of return, $α$, with some noise, $w$. For a two-day period, we can observe the\n",
    "following sequence"
   ]
  },
  {
   "cell_type": "markdown",
   "metadata": {},
   "source": [
    "$y2 = αy1 + w1$\n",
    "\n",
    "$y1 = αy0 + w0$"
   ]
  },
  {
   "cell_type": "markdown",
   "metadata": {},
   "source": [
    "where the noises $w_0$, $w_1$ are iid with the distribution $N(0,σ^2), y_0 ∼N(0,λ)$\n",
    "is independent of the noise sequence. $σ^2$ and $λ$ are known, while $α$ is unknown."
   ]
  },
  {
   "cell_type": "markdown",
   "metadata": {},
   "source": [
    "## T1\n",
    "\n",
    "Find the MLE of the rate of return, α, given the observed price at\n",
    "the end of each day $y_2$,$y_1$,$y_0$. In other words, compute for the value of α that\n",
    "maximizes $p(y_2,y_1,y_0|α)$"
   ]
  },
  {
   "cell_type": "markdown",
   "metadata": {},
   "source": [
    "**Hint**: This is a Markov process, e.g. $y_2$ is independent of $y_0$ given $y_1$.\n",
    "In general, a process is Markov if $p(y_n|y_{n−1},y_{n−2},...) = p(y_n|y_{n−1})$. In other\n",
    "words, the present is independent of the past $(y_{n−2},y_{n−3},...)$, conditioned on\n",
    "the immediate past $y_{n−1}$. You may also find the steps of the proof for logistic\n",
    "regression we did in class useful."
   ]
  },
  {
   "cell_type": "markdown",
   "metadata": {},
   "source": [
    "We know that $p(y_2,y_1,y_0|α) = p(y_2|y_1)p(y_1|y_0)p(y_0|\\alpha)$\n",
    "\n",
    "And \n",
    "\n",
    "$y_0 ∼N(0,λ)$\n",
    "\n",
    "$y_1 ∼N(\\alpha y_0, \\sigma^2)$\n",
    "\n",
    "$y_2 ∼N(\\alpha y_1, \\sigma^2)$\n",
    "\n",
    "So,\n",
    "\\begin{aligned}\n",
    "p(y_2,y_1,y_0|α) &= (\\frac{1}{2\\sqrt{2\\pi}}e^{\\frac{-1}{2}\\frac{(y_2-\\alpha y_1)^2}{\\sigma^2}})(\\frac{1}{2\\sqrt{2\\pi}}e^{\\frac{-1}{2}\\frac{(y_1-\\alpha y_0)^2}{\\sigma^2}})(\\frac{1}{2\\sqrt{2\\pi}}e^{\\frac{-1}{2}\\frac{(y_0-0)^2}{\\lambda}}) \\\\\n",
    "&= (\\frac{1}{2\\sqrt{2\\pi}})^3 exp(\\frac{-1}{2}(\\frac{(y_2-\\alpha y_1)^2}{\\sigma^2} + \\frac{(y_1-\\alpha y_0)^2}{\\sigma^2} + \\frac{y_0^2}{\\lambda}))) \\\\\n",
    "\\end{aligned}\n",
    " \n",
    "To find argmax, take $\\frac{d}{d\\alpha} log(p(y_2,y_1,y_0|α)) = 0$\n",
    "\\begin{aligned}\n",
    "\\frac{d}{d\\alpha}(\\frac{(y_2-\\alpha y_1)^2}{\\sigma^2} + \\frac{(y_1-\\alpha y_0)^2}{\\sigma^2} + \\frac{y_0^2}{\\lambda}) &= 0 \\\\\n",
    "\\frac{2(-y_1)(y_2 - \\alpha y_1)}{\\sigma} + \\frac{2(-y_0)(y_1 - \\alpha y_0)}{\\sigma} & = 0 \\\\ \n",
    "(y_2y_1 - \\alpha y_1^2) + (y_1y_0 - \\alpha y_0^2) & = 0 \\\\\n",
    "\\alpha(y_2^2+y_1^2) &= y_2y_1 + y_1y_0 \\\\ \n",
    "\\alpha &= \\frac{y_2y_1 + y_1y_0}{y_2^2+y_1^2}\n",
    "\\end{aligned}"
   ]
  },
  {
   "cell_type": "markdown",
   "metadata": {},
   "source": [
    "## OT1\n",
    "\n",
    "Consider the general case, where\n",
    "\n",
    "$y_{n+1} = αy_n + w_n$,$n$ = 0,1,2,...\n",
    "\n",
    "Find the MLE given the observed price $y_{N+1},y_N,...,y_0$"
   ]
  },
  {
   "cell_type": "markdown",
   "metadata": {},
   "source": [
    "From **T1**, \n",
    "\n",
    "To find argmax of $p(y_{n+1},y_n,...,y_0|α)$, take $\\frac{d}{d\\alpha} log(p(y_{n+1},y_n,...,y_0|α)) = 0$\n",
    "\n",
    "\\begin{aligned}\n",
    "\\frac{d}{d\\alpha}(\\frac{(y_{n+1}-\\alpha y_n)^2}{\\sigma^2} + \\frac{(y_n-\\alpha y_{n-1})^2}{\\sigma^2} + ... + \\frac{y_0^2}{\\lambda}) &= 0 \\\\\n",
    "\n",
    "(y_{n+1}y_n - \\alpha y_n^2) + (y_ny_{n-1} - \\alpha y_{n-1}^2) + ... + (y_1y_0 - \\alpha y_0^2) & = 0 \\\\\n",
    "\n",
    "\\frac{y_{n+1}y_n + y_ny_{n-1} + ... + y_1y_0}{y_{n+1}^2+y_n^2+...+y_1^2} &= \\alpha \\\\\n",
    "\\end{aligned}\n",
    "\n",
    "$\\alpha = \\frac{y_{n+1}y_n + y_ny_{n-1} + ... + y_1y_0}{y_{n+1}^2+y_n^2+...+y_1^2}$\n"
   ]
  },
  {
   "cell_type": "markdown",
   "metadata": {},
   "source": [
    "## Simple Bayes Classifier\n",
    "\n",
    "A student in Pattern Recognition course had finally built the ultimate classifier\n",
    "for cat emotions. He used one input features: the amount of food the cat ate\n",
    "that day, x (Being a good student he already normalized x to standard Normal).\n",
    "He proposed the following likelihood probabilities for class 1 (happy cat) and 2\n",
    "(sad cat)"
   ]
  },
  {
   "cell_type": "markdown",
   "metadata": {},
   "source": [
    "$P(x|w1) = N(5,2)$\n",
    "\n",
    "$P(x|w2) = N(0,2)$ \n"
   ]
  },
  {
   "cell_type": "markdown",
   "metadata": {},
   "source": [
    "## T2\n",
    "\n",
    "Plot the posteriors values of the two classes on the same axis. Using the likelihood ratio test, what is the decision boundary for this classifier? Assume equal prior probabilities."
   ]
  },
  {
   "cell_type": "code",
   "execution_count": 1,
   "metadata": {},
   "outputs": [
    {
     "name": "stderr",
     "output_type": "stream",
     "text": [
      "/Users/saenyakorn/.pyenv/versions/3.7.12/lib/python3.7/site-packages/pandas/compat/__init__.py:124: UserWarning: Could not import the lzma module. Your installed Python is incomplete. Attempting to use lzma compression will result in a RuntimeError.\n",
      "  warnings.warn(msg)\n"
     ]
    }
   ],
   "source": [
    "import numpy as np\n",
    "import matplotlib.pyplot as plt\n",
    "import scipy.stats as stats\n",
    "import pandas as pd\n",
    "import math"
   ]
  },
  {
   "cell_type": "code",
   "execution_count": 105,
   "metadata": {},
   "outputs": [
    {
     "name": "stdout",
     "output_type": "stream",
     "text": [
      "intersect: x =  2.5\n"
     ]
    },
    {
     "data": {
      "image/png": "[encoded data removed]",
      "text/plain": [
       "<Figure size 432x288 with 1 Axes>"
      ]
     },
     "metadata": {
      "needs_background": "light"
     },
     "output_type": "display_data"
    }
   ],
   "source": [
    "def plot_bayes_classifier(mu_1, mu_2, vars, p_w1, p_w2):\n",
    "  # Assume same variance for both classes\n",
    "  x_1 = np.linspace(mu_1 - 4*vars, mu_1 + 4*vars, 10000)\n",
    "  y_1 = stats.norm.pdf(x_1, mu_1, vars) * p_w1\n",
    "  x_2 = np.linspace(mu_2 - 4*vars, mu_2 + 4*vars, 10000)\n",
    "  y_2 = stats.norm.pdf(x_2, mu_2, vars) * p_w2\n",
    "\n",
    "  intersect_x = (2*vars**2*math.log(p_w2) - 2*vars**2*math.log(p_w1) + mu_1**2 - mu_2**2) / (2 * mu_1 - 2 * mu_2)\n",
    "  print(\"intersect: x = \", intersect_x)\n",
    "\n",
    "  # Plot the graph\n",
    "  plt.plot(x_1, y_1, label='P(x|w1)P(w1)', color='blue')\n",
    "  plt.fill_between(x_1[x_1 < intersect_x], y_1[x_1 < intersect_x], color='blue', alpha=0.3)\n",
    "  plt.plot(x_2, y_2, label='P(x|w2)P(w2)', color='orange')\n",
    "  plt.fill_between(x_2[x_2 > intersect_x], y_2[x_2 > intersect_x], color='orange', alpha=0.3)\n",
    "  plt.legend()\n",
    "  plt.show()\n",
    "\n",
    "# Assume P(w1) = 0.5 and P(w2) = 0.5\n",
    "vars = 2\n",
    "mu_1 = 5\n",
    "mu_2 = 0\n",
    "p_w1 = 0.5\n",
    "p_w2 = 0.5\n",
    "plot_bayes_classifier(mu_1, mu_2, vars, p_w1, p_w2)"
   ]
  },
  {
   "cell_type": "markdown",
   "metadata": {},
   "source": [
    "Since we assume priors are equal, that mean $P(w_1)$ = $P(w_2)$  "
   ]
  },
  {
   "cell_type": "markdown",
   "metadata": {},
   "source": [
    "## T3\n",
    "\n",
    "What happen to the decision boundary if the cat is happy with a prior of 0.8?"
   ]
  },
  {
   "cell_type": "code",
   "execution_count": 106,
   "metadata": {},
   "outputs": [
    {
     "name": "stdout",
     "output_type": "stream",
     "text": [
      "intersect: x =  1.3909645111040876\n"
     ]
    },
    {
     "data": {
      "image/png": "[encoded data removed]",
      "text/plain": [
       "<Figure size 432x288 with 1 Axes>"
      ]
     },
     "metadata": {
      "needs_background": "light"
     },
     "output_type": "display_data"
    }
   ],
   "source": [
    "vars = 2\n",
    "mu_1 = 5\n",
    "mu_2 = 0\n",
    "p_w1 = 0.8\n",
    "p_w2 = 0.2\n",
    "plot_bayes_classifier(mu_1, mu_2, vars, p_w1, p_w2)"
   ]
  },
  {
   "cell_type": "markdown",
   "metadata": {},
   "source": [
    "## OT2\n",
    "\n",
    "For the ordinary case of $P(x|w1)$ = $N(μ1,σ2)$, $P(x|w2)$ = $N(μ2,σ2)$,\n",
    "$p(w1) = p(w2) = 0.5$, prove that the decision boundary is at $x = \\frac{\\mu_1+\\mu_2}{2}$\n",
    "\n",
    "If the student changed his model to\n",
    "\n",
    "$P(x|w1) = N(5,2)$\n",
    "\n",
    "$P(x|w2) = N(0,4)$"
   ]
  },
  {
   "cell_type": "markdown",
   "metadata": {},
   "source": [
    "## Employee Attrition Prediction\n",
    "\n",
    "In this part of the homework, we will work on employee attrition prediction\n",
    "using data from Kaggle IBM HR Analytics Employee Attrition & Performance.\n",
    "\n",
    "https://www.kaggle.com/pavansubhashtibm-hr-analytics-attrition-dataset/home\n",
    "\n",
    "### The data\n",
    "\n",
    "For each employee, 34 features are provided. We will use these features to predict each employee attrition e.g whether the employee will leave the company (**yes** for leaving, **no** for staying)\n",
    "\n",
    "Notable features are:\n",
    "- Education: 1 ’Below College’, 2 ’College’, 3 ’Bachelor’, 4 ’Master’, 5 ’Doctor’.\n",
    "- Environment Satisfaction: 1 ’Low’, 2 ’Medium’, 3 ’High’, 4 ’Very High’.\n",
    "- Job Involvement: 1 ’Low’, 2 ’Medium’, 3 ’High’, 4 ’Very High’.\n",
    "- Job Satisfaction: 1 ’Low’, 2 ’Medium’, 3 ’High’, 4 ’Very High’.\n",
    "- Performance Rating: 1 ’Low’, 2 ’Good’, 3 ’Excellent’, 4 ’Outstanding’.\n",
    "- Relationship Satisfaction: 1 ’Low’, 2 ’Medium’, 3 ’High’, 4 ’Very High’.\n",
    "- WorkLifeBalance: 1 ’Bad’, 2 ’Good’, 3 ’Better’, 4 ’Best’.\n",
    "\n",
    "### The database\n",
    "\n",
    "First let’s look at the given data file `hr-employee-attrition-with-null.csv`.\n",
    "Load the data using pandas. Use `describe()` and `head()` to get a sense of what the data is like. Our target of prediction is Attrition. Other columns are our input features.\n",
    "\n",
    "### Data cleaning\n",
    "There are many missing values in this database. They are represented with NaN. In the previous homework, we filled the missing values with the mean, median, or mode values. That is because classifiers such as logistic regression cannot deal with missing feature values. However, for the case of Naive Bayes which we will use in this homework compares $\\Pi_ip(x_i|class)$ and treat each $x_i$ as independent features. Thus, if a feature i is missing, we can drop that term\n",
    "from the comparison without having to guess what the missing feature is. First, convert the yes and no in this data table to 1 and 0. Then, we have to convert each categorical feature to number.\n",
    "\n",
    "```\n",
    "all.loc[all[\"Attrition\"] == \"no\", \"Attrition\"] = 0.0\n",
    "all.loc[all[\"Attrition\"] == \"yes\", \"Attrition\"] = 1.0\n",
    "for col in cat_cols:\n",
    "  all[col] = pd.Categorical(all[col]).codes\n",
    "```\n",
    "\n",
    "We will also drop the employee numbers.\n",
    "\n",
    "```\n",
    "all = all.drop(columns = \"EmployeeNumber\")\n",
    "```\n",
    "\n",
    "There is no standard rule on how much data you should segment into as training and test set. But for now let’s use 90% training 10% testing. Select 10% of the is `Attrition == yes` and 10% of the is `Attrition == no` as your testing set, test set. Then, use the rest of the data as your training set, `train set`.\n",
    "\n",
    "\n",
    "### Histogram discretization\n",
    "\n",
    "In class, we learned that in order to create a Bayes Classifier we first need to estimate the posterior or likelihood probability distributions. The simplest way to estimate probability distributions is via histograms. To do histogram estimation, we divide the entire data space into a finite number of bins. Then, we count how many data points are there in each bin and normalize using the total number of data points (so that the probability sums to 1). Since we are grouping a continuous valued feature into a finite number of bins, we can also\n",
    "call this process, discretization. The following code create a histogram of a column col from `train set`\n",
    "\n",
    "```\n",
    "# remove NaN values\n",
    "train_col_no_nan = train_set[~np.isnan(train_set[col])]\n",
    "# bin the data into 40 equally spaced bins\n",
    "# hist is the count for each bin\n",
    "# bin_edge is the edge values of the bins\n",
    "hist, bin_edge = np.histogram(train_col_no_nan, 40)\n",
    "# make sure to import matplotlib.pyplot as plt\n",
    "# plot the histogram\n",
    "plt.fill_between(bin_edge.repeat(2)[1:-1],hist.repeat(2),facecolor=’steelblue’)\n",
    "plt.show()\n",
    "```"
   ]
  },
  {
   "cell_type": "code",
   "execution_count": 4,
   "metadata": {},
   "outputs": [],
   "source": [
    "# Gather training data\n",
    "data_url = \"./hr-employee-attrition-with-null.csv\"\n",
    "all_data = pd.read_csv(data_url)"
   ]
  },
  {
   "cell_type": "code",
   "execution_count": 5,
   "metadata": {},
   "outputs": [],
   "source": [
    "# Convert to codes\n",
    "all_data.loc[all_data[\"Attrition\"] == \"Yes\", \"Attrition\"] = 1.0\n",
    "all_data.loc[all_data[\"Attrition\"] == \"No\", \"Attrition\"] = 0.0\n",
    "for col in all_data.columns:\n",
    "  all_data[col] = pd.Categorical(all_data[col]).codes"
   ]
  },
  {
   "cell_type": "code",
   "execution_count": 6,
   "metadata": {},
   "outputs": [],
   "source": [
    "# Drop unnecessary columns\n",
    "all_data = all_data.drop(columns = [\"EmployeeNumber\"])"
   ]
  },
  {
   "cell_type": "code",
   "execution_count": 7,
   "metadata": {},
   "outputs": [],
   "source": [
    "# Separate data into training and testing\n",
    "train_data = all_data.sample(frac=0.8)\n",
    "test_data = all_data.drop(train_data.index)\n",
    "data_set = [train_data, test_data]"
   ]
  },
  {
   "cell_type": "code",
   "execution_count": 8,
   "metadata": {},
   "outputs": [
    {
     "data": {
      "text/html": [
       "<div>\n",
       "<style scoped>\n",
       "    .dataframe tbody tr th:only-of-type {\n",
       "        vertical-align: middle;\n",
       "    }\n",
       "\n",
       "    .dataframe tbody tr th {\n",
       "        vertical-align: top;\n",
       "    }\n",
       "\n",
       "    .dataframe thead th {\n",
       "        text-align: right;\n",
       "    }\n",
       "</style>\n",
       "<table border=\"1\" class=\"dataframe\">\n",
       "  <thead>\n",
       "    <tr style=\"text-align: right;\">\n",
       "      <th></th>\n",
       "      <th>Age</th>\n",
       "      <th>Attrition</th>\n",
       "      <th>BusinessTravel</th>\n",
       "      <th>DailyRate</th>\n",
       "      <th>Department</th>\n",
       "      <th>DistanceFromHome</th>\n",
       "      <th>Education</th>\n",
       "      <th>EducationField</th>\n",
       "      <th>EmployeeCount</th>\n",
       "      <th>EnvironmentSatisfaction</th>\n",
       "      <th>...</th>\n",
       "      <th>RelationshipSatisfaction</th>\n",
       "      <th>StandardHours</th>\n",
       "      <th>StockOptionLevel</th>\n",
       "      <th>TotalWorkingYears</th>\n",
       "      <th>TrainingTimesLastYear</th>\n",
       "      <th>WorkLifeBalance</th>\n",
       "      <th>YearsAtCompany</th>\n",
       "      <th>YearsInCurrentRole</th>\n",
       "      <th>YearsSinceLastPromotion</th>\n",
       "      <th>YearsWithCurrManager</th>\n",
       "    </tr>\n",
       "  </thead>\n",
       "  <tbody>\n",
       "    <tr>\n",
       "      <th>count</th>\n",
       "      <td>1470.000000</td>\n",
       "      <td>1470.000000</td>\n",
       "      <td>1470.000000</td>\n",
       "      <td>1470.000000</td>\n",
       "      <td>1470.000000</td>\n",
       "      <td>1470.000000</td>\n",
       "      <td>1470.000000</td>\n",
       "      <td>1470.000000</td>\n",
       "      <td>1470.0</td>\n",
       "      <td>1470.000000</td>\n",
       "      <td>...</td>\n",
       "      <td>1470.000000</td>\n",
       "      <td>1470.0</td>\n",
       "      <td>1470.000000</td>\n",
       "      <td>1470.000000</td>\n",
       "      <td>1470.000000</td>\n",
       "      <td>1470.000000</td>\n",
       "      <td>1470.000000</td>\n",
       "      <td>1470.000000</td>\n",
       "      <td>1470.000000</td>\n",
       "      <td>1470.000000</td>\n",
       "    </tr>\n",
       "    <tr>\n",
       "      <th>mean</th>\n",
       "      <td>18.923810</td>\n",
       "      <td>0.161224</td>\n",
       "      <td>1.607483</td>\n",
       "      <td>443.074830</td>\n",
       "      <td>1.260544</td>\n",
       "      <td>8.192517</td>\n",
       "      <td>1.912925</td>\n",
       "      <td>2.247619</td>\n",
       "      <td>0.0</td>\n",
       "      <td>1.721769</td>\n",
       "      <td>...</td>\n",
       "      <td>1.712245</td>\n",
       "      <td>0.0</td>\n",
       "      <td>0.793878</td>\n",
       "      <td>11.278231</td>\n",
       "      <td>2.799320</td>\n",
       "      <td>1.761224</td>\n",
       "      <td>6.991156</td>\n",
       "      <td>4.229252</td>\n",
       "      <td>2.187755</td>\n",
       "      <td>4.123129</td>\n",
       "    </tr>\n",
       "    <tr>\n",
       "      <th>std</th>\n",
       "      <td>9.135373</td>\n",
       "      <td>0.367863</td>\n",
       "      <td>0.665455</td>\n",
       "      <td>253.513199</td>\n",
       "      <td>0.527792</td>\n",
       "      <td>8.106864</td>\n",
       "      <td>1.024165</td>\n",
       "      <td>1.331369</td>\n",
       "      <td>0.0</td>\n",
       "      <td>1.093082</td>\n",
       "      <td>...</td>\n",
       "      <td>1.081209</td>\n",
       "      <td>0.0</td>\n",
       "      <td>0.852077</td>\n",
       "      <td>7.775842</td>\n",
       "      <td>1.289271</td>\n",
       "      <td>0.706476</td>\n",
       "      <td>6.053027</td>\n",
       "      <td>3.623137</td>\n",
       "      <td>3.222430</td>\n",
       "      <td>3.568136</td>\n",
       "    </tr>\n",
       "    <tr>\n",
       "      <th>min</th>\n",
       "      <td>0.000000</td>\n",
       "      <td>0.000000</td>\n",
       "      <td>0.000000</td>\n",
       "      <td>0.000000</td>\n",
       "      <td>0.000000</td>\n",
       "      <td>0.000000</td>\n",
       "      <td>0.000000</td>\n",
       "      <td>0.000000</td>\n",
       "      <td>0.0</td>\n",
       "      <td>0.000000</td>\n",
       "      <td>...</td>\n",
       "      <td>0.000000</td>\n",
       "      <td>0.0</td>\n",
       "      <td>0.000000</td>\n",
       "      <td>0.000000</td>\n",
       "      <td>0.000000</td>\n",
       "      <td>0.000000</td>\n",
       "      <td>0.000000</td>\n",
       "      <td>0.000000</td>\n",
       "      <td>0.000000</td>\n",
       "      <td>0.000000</td>\n",
       "    </tr>\n",
       "    <tr>\n",
       "      <th>25%</th>\n",
       "      <td>12.000000</td>\n",
       "      <td>0.000000</td>\n",
       "      <td>1.000000</td>\n",
       "      <td>225.000000</td>\n",
       "      <td>1.000000</td>\n",
       "      <td>1.000000</td>\n",
       "      <td>1.000000</td>\n",
       "      <td>1.000000</td>\n",
       "      <td>0.0</td>\n",
       "      <td>1.000000</td>\n",
       "      <td>...</td>\n",
       "      <td>1.000000</td>\n",
       "      <td>0.0</td>\n",
       "      <td>0.000000</td>\n",
       "      <td>6.000000</td>\n",
       "      <td>2.000000</td>\n",
       "      <td>1.000000</td>\n",
       "      <td>3.000000</td>\n",
       "      <td>2.000000</td>\n",
       "      <td>0.000000</td>\n",
       "      <td>2.000000</td>\n",
       "    </tr>\n",
       "    <tr>\n",
       "      <th>50%</th>\n",
       "      <td>18.000000</td>\n",
       "      <td>0.000000</td>\n",
       "      <td>2.000000</td>\n",
       "      <td>447.000000</td>\n",
       "      <td>1.000000</td>\n",
       "      <td>6.000000</td>\n",
       "      <td>2.000000</td>\n",
       "      <td>2.000000</td>\n",
       "      <td>0.0</td>\n",
       "      <td>2.000000</td>\n",
       "      <td>...</td>\n",
       "      <td>2.000000</td>\n",
       "      <td>0.0</td>\n",
       "      <td>1.000000</td>\n",
       "      <td>10.000000</td>\n",
       "      <td>3.000000</td>\n",
       "      <td>2.000000</td>\n",
       "      <td>5.000000</td>\n",
       "      <td>3.000000</td>\n",
       "      <td>1.000000</td>\n",
       "      <td>3.000000</td>\n",
       "    </tr>\n",
       "    <tr>\n",
       "      <th>75%</th>\n",
       "      <td>25.000000</td>\n",
       "      <td>0.000000</td>\n",
       "      <td>2.000000</td>\n",
       "      <td>660.000000</td>\n",
       "      <td>2.000000</td>\n",
       "      <td>13.000000</td>\n",
       "      <td>3.000000</td>\n",
       "      <td>3.000000</td>\n",
       "      <td>0.0</td>\n",
       "      <td>3.000000</td>\n",
       "      <td>...</td>\n",
       "      <td>3.000000</td>\n",
       "      <td>0.0</td>\n",
       "      <td>1.000000</td>\n",
       "      <td>15.000000</td>\n",
       "      <td>3.000000</td>\n",
       "      <td>2.000000</td>\n",
       "      <td>9.000000</td>\n",
       "      <td>7.000000</td>\n",
       "      <td>3.000000</td>\n",
       "      <td>7.000000</td>\n",
       "    </tr>\n",
       "    <tr>\n",
       "      <th>max</th>\n",
       "      <td>42.000000</td>\n",
       "      <td>1.000000</td>\n",
       "      <td>2.000000</td>\n",
       "      <td>885.000000</td>\n",
       "      <td>2.000000</td>\n",
       "      <td>28.000000</td>\n",
       "      <td>4.000000</td>\n",
       "      <td>5.000000</td>\n",
       "      <td>0.0</td>\n",
       "      <td>3.000000</td>\n",
       "      <td>...</td>\n",
       "      <td>3.000000</td>\n",
       "      <td>0.0</td>\n",
       "      <td>3.000000</td>\n",
       "      <td>39.000000</td>\n",
       "      <td>6.000000</td>\n",
       "      <td>3.000000</td>\n",
       "      <td>36.000000</td>\n",
       "      <td>18.000000</td>\n",
       "      <td>15.000000</td>\n",
       "      <td>17.000000</td>\n",
       "    </tr>\n",
       "  </tbody>\n",
       "</table>\n",
       "<p>8 rows × 34 columns</p>\n",
       "</div>"
      ],
      "text/plain": [
       "               Age    Attrition  BusinessTravel    DailyRate   Department  \\\n",
       "count  1470.000000  1470.000000     1470.000000  1470.000000  1470.000000   \n",
       "mean     18.923810     0.161224        1.607483   443.074830     1.260544   \n",
       "std       9.135373     0.367863        0.665455   253.513199     0.527792   \n",
       "min       0.000000     0.000000        0.000000     0.000000     0.000000   \n",
       "25%      12.000000     0.000000        1.000000   225.000000     1.000000   \n",
       "50%      18.000000     0.000000        2.000000   447.000000     1.000000   \n",
       "75%      25.000000     0.000000        2.000000   660.000000     2.000000   \n",
       "max      42.000000     1.000000        2.000000   885.000000     2.000000   \n",
       "\n",
       "       DistanceFromHome    Education  EducationField  EmployeeCount  \\\n",
       "count       1470.000000  1470.000000     1470.000000         1470.0   \n",
       "mean           8.192517     1.912925        2.247619            0.0   \n",
       "std            8.106864     1.024165        1.331369            0.0   \n",
       "min            0.000000     0.000000        0.000000            0.0   \n",
       "25%            1.000000     1.000000        1.000000            0.0   \n",
       "50%            6.000000     2.000000        2.000000            0.0   \n",
       "75%           13.000000     3.000000        3.000000            0.0   \n",
       "max           28.000000     4.000000        5.000000            0.0   \n",
       "\n",
       "       EnvironmentSatisfaction  ...  RelationshipSatisfaction  StandardHours  \\\n",
       "count              1470.000000  ...               1470.000000         1470.0   \n",
       "mean                  1.721769  ...                  1.712245            0.0   \n",
       "std                   1.093082  ...                  1.081209            0.0   \n",
       "min                   0.000000  ...                  0.000000            0.0   \n",
       "25%                   1.000000  ...                  1.000000            0.0   \n",
       "50%                   2.000000  ...                  2.000000            0.0   \n",
       "75%                   3.000000  ...                  3.000000            0.0   \n",
       "max                   3.000000  ...                  3.000000            0.0   \n",
       "\n",
       "       StockOptionLevel  TotalWorkingYears  TrainingTimesLastYear  \\\n",
       "count       1470.000000        1470.000000            1470.000000   \n",
       "mean           0.793878          11.278231               2.799320   \n",
       "std            0.852077           7.775842               1.289271   \n",
       "min            0.000000           0.000000               0.000000   \n",
       "25%            0.000000           6.000000               2.000000   \n",
       "50%            1.000000          10.000000               3.000000   \n",
       "75%            1.000000          15.000000               3.000000   \n",
       "max            3.000000          39.000000               6.000000   \n",
       "\n",
       "       WorkLifeBalance  YearsAtCompany  YearsInCurrentRole  \\\n",
       "count      1470.000000     1470.000000         1470.000000   \n",
       "mean          1.761224        6.991156            4.229252   \n",
       "std           0.706476        6.053027            3.623137   \n",
       "min           0.000000        0.000000            0.000000   \n",
       "25%           1.000000        3.000000            2.000000   \n",
       "50%           2.000000        5.000000            3.000000   \n",
       "75%           2.000000        9.000000            7.000000   \n",
       "max           3.000000       36.000000           18.000000   \n",
       "\n",
       "       YearsSinceLastPromotion  YearsWithCurrManager  \n",
       "count              1470.000000           1470.000000  \n",
       "mean                  2.187755              4.123129  \n",
       "std                   3.222430              3.568136  \n",
       "min                   0.000000              0.000000  \n",
       "25%                   0.000000              2.000000  \n",
       "50%                   1.000000              3.000000  \n",
       "75%                   3.000000              7.000000  \n",
       "max                  15.000000             17.000000  \n",
       "\n",
       "[8 rows x 34 columns]"
      ]
     },
     "execution_count": 8,
     "metadata": {},
     "output_type": "execute_result"
    }
   ],
   "source": [
    "all_data.describe()"
   ]
  },
  {
   "cell_type": "code",
   "execution_count": 9,
   "metadata": {},
   "outputs": [
    {
     "data": {
      "text/html": [
       "<div>\n",
       "<style scoped>\n",
       "    .dataframe tbody tr th:only-of-type {\n",
       "        vertical-align: middle;\n",
       "    }\n",
       "\n",
       "    .dataframe tbody tr th {\n",
       "        vertical-align: top;\n",
       "    }\n",
       "\n",
       "    .dataframe thead th {\n",
       "        text-align: right;\n",
       "    }\n",
       "</style>\n",
       "<table border=\"1\" class=\"dataframe\">\n",
       "  <thead>\n",
       "    <tr style=\"text-align: right;\">\n",
       "      <th></th>\n",
       "      <th>Age</th>\n",
       "      <th>Attrition</th>\n",
       "      <th>BusinessTravel</th>\n",
       "      <th>DailyRate</th>\n",
       "      <th>Department</th>\n",
       "      <th>DistanceFromHome</th>\n",
       "      <th>Education</th>\n",
       "      <th>EducationField</th>\n",
       "      <th>EmployeeCount</th>\n",
       "      <th>EnvironmentSatisfaction</th>\n",
       "      <th>...</th>\n",
       "      <th>RelationshipSatisfaction</th>\n",
       "      <th>StandardHours</th>\n",
       "      <th>StockOptionLevel</th>\n",
       "      <th>TotalWorkingYears</th>\n",
       "      <th>TrainingTimesLastYear</th>\n",
       "      <th>WorkLifeBalance</th>\n",
       "      <th>YearsAtCompany</th>\n",
       "      <th>YearsInCurrentRole</th>\n",
       "      <th>YearsSinceLastPromotion</th>\n",
       "      <th>YearsWithCurrManager</th>\n",
       "    </tr>\n",
       "  </thead>\n",
       "  <tbody>\n",
       "    <tr>\n",
       "      <th>count</th>\n",
       "      <td>1176.000000</td>\n",
       "      <td>1176.000000</td>\n",
       "      <td>1176.000000</td>\n",
       "      <td>1176.000000</td>\n",
       "      <td>1176.000000</td>\n",
       "      <td>1176.000000</td>\n",
       "      <td>1176.000000</td>\n",
       "      <td>1176.000000</td>\n",
       "      <td>1176.0</td>\n",
       "      <td>1176.000000</td>\n",
       "      <td>...</td>\n",
       "      <td>1176.000000</td>\n",
       "      <td>1176.0</td>\n",
       "      <td>1176.000000</td>\n",
       "      <td>1176.000000</td>\n",
       "      <td>1176.000000</td>\n",
       "      <td>1176.000000</td>\n",
       "      <td>1176.000000</td>\n",
       "      <td>1176.000000</td>\n",
       "      <td>1176.000000</td>\n",
       "      <td>1176.000000</td>\n",
       "    </tr>\n",
       "    <tr>\n",
       "      <th>mean</th>\n",
       "      <td>18.979592</td>\n",
       "      <td>0.164966</td>\n",
       "      <td>1.603741</td>\n",
       "      <td>446.678571</td>\n",
       "      <td>1.266156</td>\n",
       "      <td>8.198129</td>\n",
       "      <td>1.904762</td>\n",
       "      <td>2.250850</td>\n",
       "      <td>0.0</td>\n",
       "      <td>1.685374</td>\n",
       "      <td>...</td>\n",
       "      <td>1.725340</td>\n",
       "      <td>0.0</td>\n",
       "      <td>0.792517</td>\n",
       "      <td>11.336735</td>\n",
       "      <td>2.809524</td>\n",
       "      <td>1.753401</td>\n",
       "      <td>6.956633</td>\n",
       "      <td>4.159014</td>\n",
       "      <td>2.141156</td>\n",
       "      <td>4.085034</td>\n",
       "    </tr>\n",
       "    <tr>\n",
       "      <th>std</th>\n",
       "      <td>9.182570</td>\n",
       "      <td>0.371308</td>\n",
       "      <td>0.664827</td>\n",
       "      <td>254.155363</td>\n",
       "      <td>0.524865</td>\n",
       "      <td>8.039733</td>\n",
       "      <td>1.040185</td>\n",
       "      <td>1.328893</td>\n",
       "      <td>0.0</td>\n",
       "      <td>1.098389</td>\n",
       "      <td>...</td>\n",
       "      <td>1.084626</td>\n",
       "      <td>0.0</td>\n",
       "      <td>0.851219</td>\n",
       "      <td>7.797471</td>\n",
       "      <td>1.291983</td>\n",
       "      <td>0.710101</td>\n",
       "      <td>6.026098</td>\n",
       "      <td>3.572860</td>\n",
       "      <td>3.149139</td>\n",
       "      <td>3.521303</td>\n",
       "    </tr>\n",
       "    <tr>\n",
       "      <th>min</th>\n",
       "      <td>0.000000</td>\n",
       "      <td>0.000000</td>\n",
       "      <td>0.000000</td>\n",
       "      <td>0.000000</td>\n",
       "      <td>0.000000</td>\n",
       "      <td>0.000000</td>\n",
       "      <td>0.000000</td>\n",
       "      <td>0.000000</td>\n",
       "      <td>0.0</td>\n",
       "      <td>0.000000</td>\n",
       "      <td>...</td>\n",
       "      <td>0.000000</td>\n",
       "      <td>0.0</td>\n",
       "      <td>0.000000</td>\n",
       "      <td>0.000000</td>\n",
       "      <td>0.000000</td>\n",
       "      <td>0.000000</td>\n",
       "      <td>0.000000</td>\n",
       "      <td>0.000000</td>\n",
       "      <td>0.000000</td>\n",
       "      <td>0.000000</td>\n",
       "    </tr>\n",
       "    <tr>\n",
       "      <th>25%</th>\n",
       "      <td>12.000000</td>\n",
       "      <td>0.000000</td>\n",
       "      <td>1.000000</td>\n",
       "      <td>229.000000</td>\n",
       "      <td>1.000000</td>\n",
       "      <td>1.000000</td>\n",
       "      <td>1.000000</td>\n",
       "      <td>1.000000</td>\n",
       "      <td>0.0</td>\n",
       "      <td>1.000000</td>\n",
       "      <td>...</td>\n",
       "      <td>1.000000</td>\n",
       "      <td>0.0</td>\n",
       "      <td>0.000000</td>\n",
       "      <td>6.000000</td>\n",
       "      <td>2.000000</td>\n",
       "      <td>1.000000</td>\n",
       "      <td>3.000000</td>\n",
       "      <td>2.000000</td>\n",
       "      <td>0.000000</td>\n",
       "      <td>2.000000</td>\n",
       "    </tr>\n",
       "    <tr>\n",
       "      <th>50%</th>\n",
       "      <td>18.000000</td>\n",
       "      <td>0.000000</td>\n",
       "      <td>2.000000</td>\n",
       "      <td>448.500000</td>\n",
       "      <td>1.000000</td>\n",
       "      <td>6.000000</td>\n",
       "      <td>2.000000</td>\n",
       "      <td>2.000000</td>\n",
       "      <td>0.0</td>\n",
       "      <td>2.000000</td>\n",
       "      <td>...</td>\n",
       "      <td>2.000000</td>\n",
       "      <td>0.0</td>\n",
       "      <td>1.000000</td>\n",
       "      <td>10.000000</td>\n",
       "      <td>3.000000</td>\n",
       "      <td>2.000000</td>\n",
       "      <td>5.000000</td>\n",
       "      <td>3.000000</td>\n",
       "      <td>1.000000</td>\n",
       "      <td>3.000000</td>\n",
       "    </tr>\n",
       "    <tr>\n",
       "      <th>75%</th>\n",
       "      <td>25.000000</td>\n",
       "      <td>0.000000</td>\n",
       "      <td>2.000000</td>\n",
       "      <td>665.000000</td>\n",
       "      <td>2.000000</td>\n",
       "      <td>13.000000</td>\n",
       "      <td>3.000000</td>\n",
       "      <td>3.000000</td>\n",
       "      <td>0.0</td>\n",
       "      <td>3.000000</td>\n",
       "      <td>...</td>\n",
       "      <td>3.000000</td>\n",
       "      <td>0.0</td>\n",
       "      <td>1.000000</td>\n",
       "      <td>16.000000</td>\n",
       "      <td>3.000000</td>\n",
       "      <td>2.000000</td>\n",
       "      <td>9.000000</td>\n",
       "      <td>7.000000</td>\n",
       "      <td>3.000000</td>\n",
       "      <td>7.000000</td>\n",
       "    </tr>\n",
       "    <tr>\n",
       "      <th>max</th>\n",
       "      <td>42.000000</td>\n",
       "      <td>1.000000</td>\n",
       "      <td>2.000000</td>\n",
       "      <td>884.000000</td>\n",
       "      <td>2.000000</td>\n",
       "      <td>28.000000</td>\n",
       "      <td>4.000000</td>\n",
       "      <td>5.000000</td>\n",
       "      <td>0.0</td>\n",
       "      <td>3.000000</td>\n",
       "      <td>...</td>\n",
       "      <td>3.000000</td>\n",
       "      <td>0.0</td>\n",
       "      <td>3.000000</td>\n",
       "      <td>39.000000</td>\n",
       "      <td>6.000000</td>\n",
       "      <td>3.000000</td>\n",
       "      <td>36.000000</td>\n",
       "      <td>18.000000</td>\n",
       "      <td>15.000000</td>\n",
       "      <td>17.000000</td>\n",
       "    </tr>\n",
       "  </tbody>\n",
       "</table>\n",
       "<p>8 rows × 34 columns</p>\n",
       "</div>"
      ],
      "text/plain": [
       "               Age    Attrition  BusinessTravel    DailyRate   Department  \\\n",
       "count  1176.000000  1176.000000     1176.000000  1176.000000  1176.000000   \n",
       "mean     18.979592     0.164966        1.603741   446.678571     1.266156   \n",
       "std       9.182570     0.371308        0.664827   254.155363     0.524865   \n",
       "min       0.000000     0.000000        0.000000     0.000000     0.000000   \n",
       "25%      12.000000     0.000000        1.000000   229.000000     1.000000   \n",
       "50%      18.000000     0.000000        2.000000   448.500000     1.000000   \n",
       "75%      25.000000     0.000000        2.000000   665.000000     2.000000   \n",
       "max      42.000000     1.000000        2.000000   884.000000     2.000000   \n",
       "\n",
       "       DistanceFromHome    Education  EducationField  EmployeeCount  \\\n",
       "count       1176.000000  1176.000000     1176.000000         1176.0   \n",
       "mean           8.198129     1.904762        2.250850            0.0   \n",
       "std            8.039733     1.040185        1.328893            0.0   \n",
       "min            0.000000     0.000000        0.000000            0.0   \n",
       "25%            1.000000     1.000000        1.000000            0.0   \n",
       "50%            6.000000     2.000000        2.000000            0.0   \n",
       "75%           13.000000     3.000000        3.000000            0.0   \n",
       "max           28.000000     4.000000        5.000000            0.0   \n",
       "\n",
       "       EnvironmentSatisfaction  ...  RelationshipSatisfaction  StandardHours  \\\n",
       "count              1176.000000  ...               1176.000000         1176.0   \n",
       "mean                  1.685374  ...                  1.725340            0.0   \n",
       "std                   1.098389  ...                  1.084626            0.0   \n",
       "min                   0.000000  ...                  0.000000            0.0   \n",
       "25%                   1.000000  ...                  1.000000            0.0   \n",
       "50%                   2.000000  ...                  2.000000            0.0   \n",
       "75%                   3.000000  ...                  3.000000            0.0   \n",
       "max                   3.000000  ...                  3.000000            0.0   \n",
       "\n",
       "       StockOptionLevel  TotalWorkingYears  TrainingTimesLastYear  \\\n",
       "count       1176.000000        1176.000000            1176.000000   \n",
       "mean           0.792517          11.336735               2.809524   \n",
       "std            0.851219           7.797471               1.291983   \n",
       "min            0.000000           0.000000               0.000000   \n",
       "25%            0.000000           6.000000               2.000000   \n",
       "50%            1.000000          10.000000               3.000000   \n",
       "75%            1.000000          16.000000               3.000000   \n",
       "max            3.000000          39.000000               6.000000   \n",
       "\n",
       "       WorkLifeBalance  YearsAtCompany  YearsInCurrentRole  \\\n",
       "count      1176.000000     1176.000000         1176.000000   \n",
       "mean          1.753401        6.956633            4.159014   \n",
       "std           0.710101        6.026098            3.572860   \n",
       "min           0.000000        0.000000            0.000000   \n",
       "25%           1.000000        3.000000            2.000000   \n",
       "50%           2.000000        5.000000            3.000000   \n",
       "75%           2.000000        9.000000            7.000000   \n",
       "max           3.000000       36.000000           18.000000   \n",
       "\n",
       "       YearsSinceLastPromotion  YearsWithCurrManager  \n",
       "count              1176.000000           1176.000000  \n",
       "mean                  2.141156              4.085034  \n",
       "std                   3.149139              3.521303  \n",
       "min                   0.000000              0.000000  \n",
       "25%                   0.000000              2.000000  \n",
       "50%                   1.000000              3.000000  \n",
       "75%                   3.000000              7.000000  \n",
       "max                  15.000000             17.000000  \n",
       "\n",
       "[8 rows x 34 columns]"
      ]
     },
     "execution_count": 9,
     "metadata": {},
     "output_type": "execute_result"
    }
   ],
   "source": [
    "train_data.describe()"
   ]
  },
  {
   "cell_type": "code",
   "execution_count": 10,
   "metadata": {},
   "outputs": [
    {
     "data": {
      "text/html": [
       "<div>\n",
       "<style scoped>\n",
       "    .dataframe tbody tr th:only-of-type {\n",
       "        vertical-align: middle;\n",
       "    }\n",
       "\n",
       "    .dataframe tbody tr th {\n",
       "        vertical-align: top;\n",
       "    }\n",
       "\n",
       "    .dataframe thead th {\n",
       "        text-align: right;\n",
       "    }\n",
       "</style>\n",
       "<table border=\"1\" class=\"dataframe\">\n",
       "  <thead>\n",
       "    <tr style=\"text-align: right;\">\n",
       "      <th></th>\n",
       "      <th>Age</th>\n",
       "      <th>Attrition</th>\n",
       "      <th>BusinessTravel</th>\n",
       "      <th>DailyRate</th>\n",
       "      <th>Department</th>\n",
       "      <th>DistanceFromHome</th>\n",
       "      <th>Education</th>\n",
       "      <th>EducationField</th>\n",
       "      <th>EmployeeCount</th>\n",
       "      <th>EnvironmentSatisfaction</th>\n",
       "      <th>...</th>\n",
       "      <th>RelationshipSatisfaction</th>\n",
       "      <th>StandardHours</th>\n",
       "      <th>StockOptionLevel</th>\n",
       "      <th>TotalWorkingYears</th>\n",
       "      <th>TrainingTimesLastYear</th>\n",
       "      <th>WorkLifeBalance</th>\n",
       "      <th>YearsAtCompany</th>\n",
       "      <th>YearsInCurrentRole</th>\n",
       "      <th>YearsSinceLastPromotion</th>\n",
       "      <th>YearsWithCurrManager</th>\n",
       "    </tr>\n",
       "  </thead>\n",
       "  <tbody>\n",
       "    <tr>\n",
       "      <th>count</th>\n",
       "      <td>294.000000</td>\n",
       "      <td>294.000000</td>\n",
       "      <td>294.000000</td>\n",
       "      <td>294.000000</td>\n",
       "      <td>294.000000</td>\n",
       "      <td>294.000000</td>\n",
       "      <td>294.000000</td>\n",
       "      <td>294.000000</td>\n",
       "      <td>294.0</td>\n",
       "      <td>294.000000</td>\n",
       "      <td>...</td>\n",
       "      <td>294.000000</td>\n",
       "      <td>294.0</td>\n",
       "      <td>294.000000</td>\n",
       "      <td>294.000000</td>\n",
       "      <td>294.000000</td>\n",
       "      <td>294.000000</td>\n",
       "      <td>294.000000</td>\n",
       "      <td>294.000000</td>\n",
       "      <td>294.000000</td>\n",
       "      <td>294.000000</td>\n",
       "    </tr>\n",
       "    <tr>\n",
       "      <th>mean</th>\n",
       "      <td>18.700680</td>\n",
       "      <td>0.146259</td>\n",
       "      <td>1.622449</td>\n",
       "      <td>428.659864</td>\n",
       "      <td>1.238095</td>\n",
       "      <td>8.170068</td>\n",
       "      <td>1.945578</td>\n",
       "      <td>2.234694</td>\n",
       "      <td>0.0</td>\n",
       "      <td>1.867347</td>\n",
       "      <td>...</td>\n",
       "      <td>1.659864</td>\n",
       "      <td>0.0</td>\n",
       "      <td>0.799320</td>\n",
       "      <td>11.044218</td>\n",
       "      <td>2.758503</td>\n",
       "      <td>1.792517</td>\n",
       "      <td>7.129252</td>\n",
       "      <td>4.510204</td>\n",
       "      <td>2.374150</td>\n",
       "      <td>4.275510</td>\n",
       "    </tr>\n",
       "    <tr>\n",
       "      <th>std</th>\n",
       "      <td>8.956028</td>\n",
       "      <td>0.353968</td>\n",
       "      <td>0.668889</td>\n",
       "      <td>250.839192</td>\n",
       "      <td>0.539667</td>\n",
       "      <td>8.384020</td>\n",
       "      <td>0.958400</td>\n",
       "      <td>1.343428</td>\n",
       "      <td>0.0</td>\n",
       "      <td>1.060984</td>\n",
       "      <td>...</td>\n",
       "      <td>1.067654</td>\n",
       "      <td>0.0</td>\n",
       "      <td>0.856933</td>\n",
       "      <td>7.697441</td>\n",
       "      <td>1.279737</td>\n",
       "      <td>0.692090</td>\n",
       "      <td>6.168036</td>\n",
       "      <td>3.811009</td>\n",
       "      <td>3.499802</td>\n",
       "      <td>3.751989</td>\n",
       "    </tr>\n",
       "    <tr>\n",
       "      <th>min</th>\n",
       "      <td>0.000000</td>\n",
       "      <td>0.000000</td>\n",
       "      <td>0.000000</td>\n",
       "      <td>1.000000</td>\n",
       "      <td>0.000000</td>\n",
       "      <td>0.000000</td>\n",
       "      <td>0.000000</td>\n",
       "      <td>0.000000</td>\n",
       "      <td>0.0</td>\n",
       "      <td>0.000000</td>\n",
       "      <td>...</td>\n",
       "      <td>0.000000</td>\n",
       "      <td>0.0</td>\n",
       "      <td>0.000000</td>\n",
       "      <td>0.000000</td>\n",
       "      <td>0.000000</td>\n",
       "      <td>0.000000</td>\n",
       "      <td>0.000000</td>\n",
       "      <td>0.000000</td>\n",
       "      <td>0.000000</td>\n",
       "      <td>0.000000</td>\n",
       "    </tr>\n",
       "    <tr>\n",
       "      <th>25%</th>\n",
       "      <td>13.000000</td>\n",
       "      <td>0.000000</td>\n",
       "      <td>1.000000</td>\n",
       "      <td>213.750000</td>\n",
       "      <td>1.000000</td>\n",
       "      <td>1.000000</td>\n",
       "      <td>1.000000</td>\n",
       "      <td>1.000000</td>\n",
       "      <td>0.0</td>\n",
       "      <td>1.000000</td>\n",
       "      <td>...</td>\n",
       "      <td>1.000000</td>\n",
       "      <td>0.0</td>\n",
       "      <td>0.000000</td>\n",
       "      <td>6.000000</td>\n",
       "      <td>2.000000</td>\n",
       "      <td>1.000000</td>\n",
       "      <td>3.000000</td>\n",
       "      <td>2.000000</td>\n",
       "      <td>0.000000</td>\n",
       "      <td>2.000000</td>\n",
       "    </tr>\n",
       "    <tr>\n",
       "      <th>50%</th>\n",
       "      <td>17.000000</td>\n",
       "      <td>0.000000</td>\n",
       "      <td>2.000000</td>\n",
       "      <td>439.500000</td>\n",
       "      <td>1.000000</td>\n",
       "      <td>6.000000</td>\n",
       "      <td>2.000000</td>\n",
       "      <td>2.000000</td>\n",
       "      <td>0.0</td>\n",
       "      <td>2.000000</td>\n",
       "      <td>...</td>\n",
       "      <td>2.000000</td>\n",
       "      <td>0.0</td>\n",
       "      <td>1.000000</td>\n",
       "      <td>10.000000</td>\n",
       "      <td>3.000000</td>\n",
       "      <td>2.000000</td>\n",
       "      <td>5.000000</td>\n",
       "      <td>3.000000</td>\n",
       "      <td>1.000000</td>\n",
       "      <td>3.000000</td>\n",
       "    </tr>\n",
       "    <tr>\n",
       "      <th>75%</th>\n",
       "      <td>24.000000</td>\n",
       "      <td>0.000000</td>\n",
       "      <td>2.000000</td>\n",
       "      <td>624.750000</td>\n",
       "      <td>2.000000</td>\n",
       "      <td>12.750000</td>\n",
       "      <td>3.000000</td>\n",
       "      <td>3.000000</td>\n",
       "      <td>0.0</td>\n",
       "      <td>3.000000</td>\n",
       "      <td>...</td>\n",
       "      <td>3.000000</td>\n",
       "      <td>0.0</td>\n",
       "      <td>1.000000</td>\n",
       "      <td>13.000000</td>\n",
       "      <td>3.000000</td>\n",
       "      <td>2.000000</td>\n",
       "      <td>10.000000</td>\n",
       "      <td>7.000000</td>\n",
       "      <td>3.000000</td>\n",
       "      <td>7.000000</td>\n",
       "    </tr>\n",
       "    <tr>\n",
       "      <th>max</th>\n",
       "      <td>42.000000</td>\n",
       "      <td>1.000000</td>\n",
       "      <td>2.000000</td>\n",
       "      <td>885.000000</td>\n",
       "      <td>2.000000</td>\n",
       "      <td>28.000000</td>\n",
       "      <td>4.000000</td>\n",
       "      <td>5.000000</td>\n",
       "      <td>0.0</td>\n",
       "      <td>3.000000</td>\n",
       "      <td>...</td>\n",
       "      <td>3.000000</td>\n",
       "      <td>0.0</td>\n",
       "      <td>3.000000</td>\n",
       "      <td>37.000000</td>\n",
       "      <td>6.000000</td>\n",
       "      <td>3.000000</td>\n",
       "      <td>34.000000</td>\n",
       "      <td>18.000000</td>\n",
       "      <td>15.000000</td>\n",
       "      <td>17.000000</td>\n",
       "    </tr>\n",
       "  </tbody>\n",
       "</table>\n",
       "<p>8 rows × 34 columns</p>\n",
       "</div>"
      ],
      "text/plain": [
       "              Age   Attrition  BusinessTravel   DailyRate  Department  \\\n",
       "count  294.000000  294.000000      294.000000  294.000000  294.000000   \n",
       "mean    18.700680    0.146259        1.622449  428.659864    1.238095   \n",
       "std      8.956028    0.353968        0.668889  250.839192    0.539667   \n",
       "min      0.000000    0.000000        0.000000    1.000000    0.000000   \n",
       "25%     13.000000    0.000000        1.000000  213.750000    1.000000   \n",
       "50%     17.000000    0.000000        2.000000  439.500000    1.000000   \n",
       "75%     24.000000    0.000000        2.000000  624.750000    2.000000   \n",
       "max     42.000000    1.000000        2.000000  885.000000    2.000000   \n",
       "\n",
       "       DistanceFromHome   Education  EducationField  EmployeeCount  \\\n",
       "count        294.000000  294.000000      294.000000          294.0   \n",
       "mean           8.170068    1.945578        2.234694            0.0   \n",
       "std            8.384020    0.958400        1.343428            0.0   \n",
       "min            0.000000    0.000000        0.000000            0.0   \n",
       "25%            1.000000    1.000000        1.000000            0.0   \n",
       "50%            6.000000    2.000000        2.000000            0.0   \n",
       "75%           12.750000    3.000000        3.000000            0.0   \n",
       "max           28.000000    4.000000        5.000000            0.0   \n",
       "\n",
       "       EnvironmentSatisfaction  ...  RelationshipSatisfaction  StandardHours  \\\n",
       "count               294.000000  ...                294.000000          294.0   \n",
       "mean                  1.867347  ...                  1.659864            0.0   \n",
       "std                   1.060984  ...                  1.067654            0.0   \n",
       "min                   0.000000  ...                  0.000000            0.0   \n",
       "25%                   1.000000  ...                  1.000000            0.0   \n",
       "50%                   2.000000  ...                  2.000000            0.0   \n",
       "75%                   3.000000  ...                  3.000000            0.0   \n",
       "max                   3.000000  ...                  3.000000            0.0   \n",
       "\n",
       "       StockOptionLevel  TotalWorkingYears  TrainingTimesLastYear  \\\n",
       "count        294.000000         294.000000             294.000000   \n",
       "mean           0.799320          11.044218               2.758503   \n",
       "std            0.856933           7.697441               1.279737   \n",
       "min            0.000000           0.000000               0.000000   \n",
       "25%            0.000000           6.000000               2.000000   \n",
       "50%            1.000000          10.000000               3.000000   \n",
       "75%            1.000000          13.000000               3.000000   \n",
       "max            3.000000          37.000000               6.000000   \n",
       "\n",
       "       WorkLifeBalance  YearsAtCompany  YearsInCurrentRole  \\\n",
       "count       294.000000      294.000000          294.000000   \n",
       "mean          1.792517        7.129252            4.510204   \n",
       "std           0.692090        6.168036            3.811009   \n",
       "min           0.000000        0.000000            0.000000   \n",
       "25%           1.000000        3.000000            2.000000   \n",
       "50%           2.000000        5.000000            3.000000   \n",
       "75%           2.000000       10.000000            7.000000   \n",
       "max           3.000000       34.000000           18.000000   \n",
       "\n",
       "       YearsSinceLastPromotion  YearsWithCurrManager  \n",
       "count               294.000000            294.000000  \n",
       "mean                  2.374150              4.275510  \n",
       "std                   3.499802              3.751989  \n",
       "min                   0.000000              0.000000  \n",
       "25%                   0.000000              2.000000  \n",
       "50%                   1.000000              3.000000  \n",
       "75%                   3.000000              7.000000  \n",
       "max                  15.000000             17.000000  \n",
       "\n",
       "[8 rows x 34 columns]"
      ]
     },
     "execution_count": 10,
     "metadata": {},
     "output_type": "execute_result"
    }
   ],
   "source": [
    "test_data.describe()"
   ]
  },
  {
   "cell_type": "markdown",
   "metadata": {},
   "source": [
    "## T4\n",
    "\n",
    "Observe the histogram for `Age`, `MonthlyIncome` and `DistanceFromHome`.\n",
    "How many bins have zero counts? Do you think this is a good discretization?\n",
    "Why?"
   ]
  },
  {
   "cell_type": "code",
   "execution_count": 11,
   "metadata": {},
   "outputs": [
    {
     "name": "stdout",
     "output_type": "stream",
     "text": [
      "Age bins zero count:  0\n",
      "MonthlyIncome bins zero count:  0\n",
      "DistanceFromHome bins zero count:  11\n"
     ]
    },
    {
     "data": {
      "image/png": "[encoded data removed]",
      "text/plain": [
       "<Figure size 432x288 with 3 Axes>"
      ]
     },
     "metadata": {
      "needs_background": "light"
     },
     "output_type": "display_data"
    }
   ],
   "source": [
    "bins = 40\n",
    "cols = [\"Age\", \"MonthlyIncome\", \"DistanceFromHome\"]\n",
    "for i in range(len(cols)):\n",
    "  col = cols[i]\n",
    "  # remove NaN values\n",
    "  is_nan = np.isnan(train_data[col])\n",
    "  filtered_train_data = train_data[~is_nan]\n",
    "  d = filtered_train_data[col].values\n",
    "  hist, bin_edge = np.histogram(d, bins=bins)\n",
    "  bins_zero_count = np.count_nonzero(hist == 0)\n",
    "  print(col, \"bins zero count: \", bins_zero_count)\n",
    "  plt.subplot(len(cols), 1, i+1)\n",
    "  plt.fill_between(bin_edge.repeat(2)[1:-1], hist.repeat(2), facecolor='blue', alpha=0.7)\n",
    "plt.show()"
   ]
  },
  {
   "cell_type": "markdown",
   "metadata": {},
   "source": [
    "## Answer\n",
    "\n",
    "มีเพียง \"DistanceFromHome\" ที่ไม่มีข้อมูลใน bin นั้นทั้งหมด 11 bins \n",
    "\n",
    "การ plot histrogram โดยใช้ bins = 40 อาจจะเหมาะสมแล้วสำหรับ \"Age\" และ \"MonthlyIncome\" แต่ไม่เหมาะสมกับ  \"DistanceFromHome\" เพราะ มี bin ที่ไม่มีข้อมูลอยู่เลยอยู่หลายอัน ซึ่งอาจจะทำให้ model ที่เราทำออกมามีความผิดพลาดจากการขาดข้อมูลได้"
   ]
  },
  {
   "cell_type": "markdown",
   "metadata": {},
   "source": [
    "## T5\n",
    "\n",
    "Can we use a Gaussian to estimate this histogram? Why? What about a\n",
    "Gaussian Mixture Model (GMM)?\n",
    "The above discretization equally segments the space into equally spaced bins. This is the best method to segment if you know nothing about the data. Still, doing so may leave us with many bins with zero counts when we have too little data. To prevent this issue, we might assume that the distribution of our data is Normal then draw the probabilities of each data point from this distribution instead. We will do this later. For now, do\n",
    "\n",
    "1. First set the number of bins to 10 for `Age`, `MonthlyIncome` and\n",
    "`DistanceFromHome`. **Make numbers of bin a parameter as we will change\n",
    "this later**.\n",
    "\n",
    "2. Bin each values in the training set into bins using the function `np.digitize`, then count the number in each bins using `np.bincount`. Be careful with the maximum and minimum values, your first bin should cover `−inf`, and your final bin should cover `inf`, so that you can handle test data that might be outside of the minimum and maximum values."
   ]
  },
  {
   "cell_type": "code",
   "execution_count": 88,
   "metadata": {},
   "outputs": [],
   "source": [
    "# Bin each values into bins\n",
    "def bin_data(data, bins, hist = False, title=\"\", gaussian=False):\n",
    "  mx, mn = np.max(data), np.min(data)\n",
    "  bin_size = (mx - mn) / bins\n",
    "  bin_edge = np.arange(mn, mx + 2*bin_size, bin_size)\n",
    "  inds = np.digitize(data, bin_edge)\n",
    "  if gaussian:\n",
    "    mean = np.mean(data)\n",
    "    std = np.std(data)\n",
    "    x = np.linspace(mean - 3*std, mean + 3*std, 10000)\n",
    "    plt.plot(x, stats.norm.pdf(x, mean, std))\n",
    "  if hist:\n",
    "    plt.title(title + \" Histogram bins = \" + str(bins))\n",
    "    plt.hist(data, bins=bins, label=title, density=True)\n",
    "  if gaussian or hist:\n",
    "    plt.legend()\n",
    "    plt.show()\n",
    "  return np.bincount(inds)"
   ]
  },
  {
   "cell_type": "code",
   "execution_count": 89,
   "metadata": {},
   "outputs": [
    {
     "name": "stdout",
     "output_type": "stream",
     "text": [
      "[  0  48  78 188 202 203 177 107  72  63  35   3]\n",
      "[ 0 13 10 12 13 11 16 24 27 44 32 59 53 54 48 45 55 60 57 39 47 78 34 38\n",
      " 27 28 29 28 22 13 18 25 16 14 14 17 18 12  2 11 10  3]\n",
      "[ 0  6  0  7  0 10  0  0 12  0 13  0 11  0  0 16  0 24  0  0 27  0 44  0\n",
      " 32  0  0 59  0 53  0 54  0  0 48  0 45  0  0 55  0 60  0 57  0  0 39  0\n",
      " 47  0  0 35  0 43  0 34  0  0 38  0 27  0 28  0  0 29  0 28  0  0 22  0\n",
      " 13  0 18  0  0 25  0 16  0 14  0  0 14  0 17  0  0 18  0 12  0  2  0  0\n",
      " 11  0 10  0  0  3]\n"
     ]
    }
   ],
   "source": [
    "print(bin_data(train_data[\"Age\"].values, 10))\n",
    "print(bin_data(train_data[\"Age\"].values, 40))\n",
    "print(bin_data(train_data[\"Age\"].values, 100))"
   ]
  },
  {
   "cell_type": "code",
   "execution_count": null,
   "metadata": {},
   "outputs": [],
   "source": []
  },
  {
   "cell_type": "code",
   "execution_count": 90,
   "metadata": {},
   "outputs": [
    {
     "name": "stdout",
     "output_type": "stream",
     "text": [
      "[  0 120 139 113 111 120 121 114 113 112 112   1]\n",
      "[ 0 26 35 33 26 38 32 35 34 28 30 26 29 26 29 28 28 26 28 32 34 30 29 34\n",
      " 28 29 31 29 25 27 23 30 33 29 26 26 31 23 30 31 28  1]\n",
      "[ 0 11  9 13 14 14 12 15 12 14  6 16 16 11 13 14 14 14 13 13 15 11 12 12\n",
      " 13 10 12 10 11 11 11 12  9 11 10 13 13 11 10 12 10 11 11  9 12 11 13 14\n",
      " 12 18  9 10 13 12 11 13 14 14 13 11 10 10 14 14 12 10 14 12  7 10 11 12\n",
      "  9 12  9  8 13 11 12 14 13  8 13 13 11 10 11  9 12 13 12 10  9 10 11 13\n",
      " 13 12 12 11 11  1]\n"
     ]
    }
   ],
   "source": [
    "print(bin_data(train_data[\"MonthlyIncome\"].values, 10))\n",
    "print(bin_data(train_data[\"MonthlyIncome\"].values, 40))\n",
    "print(bin_data(train_data[\"MonthlyIncome\"].values, 100))"
   ]
  },
  {
   "cell_type": "code",
   "execution_count": 91,
   "metadata": {},
   "outputs": [
    {
     "name": "stdout",
     "output_type": "stream",
     "text": [
      "[  0 394 158 198 111  31  64  57  58  58  26  21]\n",
      "[  0 160 167  67   0  52  55   0  51  69   0  64  65  67   0  26  18   0\n",
      "  13  18   0  22  28  14   0  23  16   0  18  15   0  16  27  18   0  21\n",
      "  19   0  10  16   0  21]\n",
      "[  0 160   0   0 167   0   0   0  67   0   0  52   0   0   0  55   0   0\n",
      "  51   0   0   0  69   0   0  64   0   0   0  65   0   0   0  67   0   0\n",
      "  26   0   0   0  18   0   0  13   0   0   0  18   0   0  22   0   0   0\n",
      "  28   0   0   0  14   0   0  23   0   0   0  16   0   0  18   0   0   0\n",
      "  15   0   0  16   0   0   0  27   0   0   0  18   0   0  21   0   0   0\n",
      "  19   0   0  10   0   0   0  16   0   0  21]\n"
     ]
    }
   ],
   "source": [
    "print(bin_data(train_data[\"DistanceFromHome\"].values, 10))\n",
    "print(bin_data(train_data[\"DistanceFromHome\"].values, 40))\n",
    "print(bin_data(train_data[\"DistanceFromHome\"].values, 100))"
   ]
  },
  {
   "cell_type": "markdown",
   "metadata": {},
   "source": [
    "## T6\n",
    "\n",
    "Now plot the histogram according to the method described above (with\n",
    "10, 40, and 100 bins) and show 3 plots for Age, MonthlyIncome, and DistanceFromHome. Which bin size is most sensible for each features? Why?"
   ]
  },
  {
   "cell_type": "code",
   "execution_count": 92,
   "metadata": {},
   "outputs": [
    {
     "name": "stderr",
     "output_type": "stream",
     "text": [
      "No artists with labels found to put in legend.  Note that artists whose label start with an underscore are ignored when legend() is called with no argument.\n"
     ]
    },
    {
     "name": "stdout",
     "output_type": "stream",
     "text": [
      "Age\n"
     ]
    },
    {
     "data": {
      "image/png": "[encoded data removed]",
      "text/plain": [
       "<Figure size 432x288 with 1 Axes>"
      ]
     },
     "metadata": {
      "needs_background": "light"
     },
     "output_type": "display_data"
    },
    {
     "name": "stderr",
     "output_type": "stream",
     "text": [
      "No artists with labels found to put in legend.  Note that artists whose label start with an underscore are ignored when legend() is called with no argument.\n"
     ]
    },
    {
     "data": {
      "image/png": "[encoded data removed]",
      "text/plain": [
       "<Figure size 432x288 with 1 Axes>"
      ]
     },
     "metadata": {
      "needs_background": "light"
     },
     "output_type": "display_data"
    },
    {
     "name": "stderr",
     "output_type": "stream",
     "text": [
      "No artists with labels found to put in legend.  Note that artists whose label start with an underscore are ignored when legend() is called with no argument.\n"
     ]
    },
    {
     "data": {
      "image/png": "[encoded data removed]",
      "text/plain": [
       "<Figure size 432x288 with 1 Axes>"
      ]
     },
     "metadata": {
      "needs_background": "light"
     },
     "output_type": "display_data"
    },
    {
     "name": "stdout",
     "output_type": "stream",
     "text": [
      "\n"
     ]
    }
   ],
   "source": [
    "print(\"Age\")\n",
    "bin_data(train_data[\"Age\"].values, 10, hist=True)\n",
    "bin_data(train_data[\"Age\"].values, 40, hist=True)\n",
    "bin_data(train_data[\"Age\"].values, 100, hist=True)\n",
    "print()"
   ]
  },
  {
   "cell_type": "code",
   "execution_count": 93,
   "metadata": {},
   "outputs": [
    {
     "name": "stderr",
     "output_type": "stream",
     "text": [
      "No artists with labels found to put in legend.  Note that artists whose label start with an underscore are ignored when legend() is called with no argument.\n"
     ]
    },
    {
     "name": "stdout",
     "output_type": "stream",
     "text": [
      "MonthlyIncome\n"
     ]
    },
    {
     "data": {
      "image/png": "[encoded data removed]",
      "text/plain": [
       "<Figure size 432x288 with 1 Axes>"
      ]
     },
     "metadata": {
      "needs_background": "light"
     },
     "output_type": "display_data"
    },
    {
     "name": "stderr",
     "output_type": "stream",
     "text": [
      "No artists with labels found to put in legend.  Note that artists whose label start with an underscore are ignored when legend() is called with no argument.\n"
     ]
    },
    {
     "data": {
      "image/png": "[encoded data removed]",
      "text/plain": [
       "<Figure size 432x288 with 1 Axes>"
      ]
     },
     "metadata": {
      "needs_background": "light"
     },
     "output_type": "display_data"
    },
    {
     "name": "stderr",
     "output_type": "stream",
     "text": [
      "No artists with labels found to put in legend.  Note that artists whose label start with an underscore are ignored when legend() is called with no argument.\n"
     ]
    },
    {
     "data": {
      "image/png": "[encoded data removed]",
      "text/plain": [
       "<Figure size 432x288 with 1 Axes>"
      ]
     },
     "metadata": {
      "needs_background": "light"
     },
     "output_type": "display_data"
    },
    {
     "name": "stdout",
     "output_type": "stream",
     "text": [
      "\n"
     ]
    }
   ],
   "source": [
    "print(\"MonthlyIncome\")\n",
    "bin_data(train_data[\"MonthlyIncome\"].values, 10, hist=True)\n",
    "bin_data(train_data[\"MonthlyIncome\"].values, 40, hist=True)\n",
    "bin_data(train_data[\"MonthlyIncome\"].values, 100, hist=True)\n",
    "print()"
   ]
  },
  {
   "cell_type": "code",
   "execution_count": 94,
   "metadata": {},
   "outputs": [
    {
     "name": "stderr",
     "output_type": "stream",
     "text": [
      "No artists with labels found to put in legend.  Note that artists whose label start with an underscore are ignored when legend() is called with no argument.\n"
     ]
    },
    {
     "name": "stdout",
     "output_type": "stream",
     "text": [
      "DistanceFromHome\n"
     ]
    },
    {
     "data": {
      "image/png": "[encoded data removed]",
      "text/plain": [
       "<Figure size 432x288 with 1 Axes>"
      ]
     },
     "metadata": {
      "needs_background": "light"
     },
     "output_type": "display_data"
    },
    {
     "name": "stderr",
     "output_type": "stream",
     "text": [
      "No artists with labels found to put in legend.  Note that artists whose label start with an underscore are ignored when legend() is called with no argument.\n"
     ]
    },
    {
     "data": {
      "image/png": "[encoded data removed]",
      "text/plain": [
       "<Figure size 432x288 with 1 Axes>"
      ]
     },
     "metadata": {
      "needs_background": "light"
     },
     "output_type": "display_data"
    },
    {
     "name": "stderr",
     "output_type": "stream",
     "text": [
      "No artists with labels found to put in legend.  Note that artists whose label start with an underscore are ignored when legend() is called with no argument.\n"
     ]
    },
    {
     "data": {
      "image/png": "[encoded data removed]",
      "text/plain": [
       "<Figure size 432x288 with 1 Axes>"
      ]
     },
     "metadata": {
      "needs_background": "light"
     },
     "output_type": "display_data"
    },
    {
     "name": "stdout",
     "output_type": "stream",
     "text": [
      "\n"
     ]
    }
   ],
   "source": [
    "print(\"DistanceFromHome\")\n",
    "bin_data(train_data[\"DistanceFromHome\"].values, 10, hist=True)\n",
    "bin_data(train_data[\"DistanceFromHome\"].values, 40, hist=True)\n",
    "bin_data(train_data[\"DistanceFromHome\"].values, 100, hist=True)\n",
    "print()"
   ]
  },
  {
   "cell_type": "markdown",
   "metadata": {},
   "source": [
    "## Answer\n",
    "\n",
    "สำหรับ Age, bins ที่เหมาะสมจะเป็น 40 เพราะสามารถบอกการกระจายข้อมูลได้ละเอียดพอดี ไม่หยาบและไม่ละเอียดจนเกินไป\n",
    "\n",
    "สำหรับ MonthlyIncome, bins ที่เหมาะสมจะอยู่ที่ 100 เพราะข้อมูลมีการกระจายตัวมาก \n",
    "\n",
    "สำหรับ DistanceFromHome, bins ที่เหมาะสมคือ 10 เพราะข้อมูล DistanceFromHome จะอยู่แค่ในช่วงแคบ ๆ ไม่จำเป็นต้องใช้ bins จำนวนเยอะ ๆ"
   ]
  },
  {
   "cell_type": "markdown",
   "metadata": {},
   "source": [
    "## T7\n",
    "\n",
    "For the rest of the features, which one should be discretized? What are the criteria for choosing whether we should discretize a feature or not? Answer this and discretize those features into 10 bins each. In other words, figure out the bin edge for each feature, then use `digitize()` to convert the features to discrete values.\n",
    "\n",
    "**The MLE for the likelihood distribution of discretized histograms**\n",
    "\n",
    "We would like to build a Naive Bayes classifier which compares the posterior $p(leave|x_i)$ against $p(stay|x_i)$. However, figuring out $p(class|x_i)$ is often hard (not true for this case). Thus, we turn to the likelihood $p(x_i|class)$, which can be derived from the discretized histograms."
   ]
  },
  {
   "cell_type": "code",
   "execution_count": 107,
   "metadata": {},
   "outputs": [
    {
     "data": {
      "image/png": "[encoded data removed]",
      "text/plain": [
       "<Figure size 432x288 with 1 Axes>"
      ]
     },
     "metadata": {
      "needs_background": "light"
     },
     "output_type": "display_data"
    },
    {
     "data": {
      "image/png": "[encoded data removed]",
      "text/plain": [
       "<Figure size 432x288 with 1 Axes>"
      ]
     },
     "metadata": {
      "needs_background": "light"
     },
     "output_type": "display_data"
    },
    {
     "data": {
      "image/png": "[encoded data removed]",
      "text/plain": [
       "<Figure size 432x288 with 1 Axes>"
      ]
     },
     "metadata": {
      "needs_background": "light"
     },
     "output_type": "display_data"
    },
    {
     "data": {
      "image/png": "[encoded data removed]",
      "text/plain": [
       "<Figure size 432x288 with 1 Axes>"
      ]
     },
     "metadata": {
      "needs_background": "light"
     },
     "output_type": "display_data"
    },
    {
     "name": "stdout",
     "output_type": "stream",
     "text": [
      "\n"
     ]
    }
   ],
   "source": [
    "bin_data(train_data[\"DailyRate\"].values, 10, hist=True, title=\"DailyRate\", gaussian=True)\n",
    "bin_data(train_data[\"HourlyRate\"].values, 10, hist=True, title=\"HourlyRate\", gaussian=True)\n",
    "bin_data(train_data[\"MonthlyIncome\"].values, 10, hist=True, title=\"MonthlyIncome\", gaussian=True)\n",
    "bin_data(train_data[\"TotalWorkingYears\"].values, 10, hist=True, title=\"TotalWorkingYears\", gaussian=True)\n",
    "print()"
   ]
  },
  {
   "cell_type": "markdown",
   "metadata": {},
   "source": [
    "## Answer\n",
    "\n",
    "ทุก Columns ที่เป็นจำนวนและมี variance ของข้อมูลประมาณหนึ่ง เช่น \"DailyRate\", \"HourlyRate\", \"MonthlyIncome\" เป็นต้น แต่ข้อมูลที่เป็นประเภทที่มีการกระจายตัวต่ำ ๆ (min-max อยู่ที่ 1-4 หรืออะไรประมาณนั้น) ไม่จำเป็น เช่น \"Education\", \"PerformanceRating\", \"StockOptionLevel\""
   ]
  },
  {
   "cell_type": "markdown",
   "metadata": {},
   "source": [
    "## T8\n",
    "\n",
    "What kind of distribution should we use to model histograms? (Answer a distribution name) What is the MLE for the likelihood distribution? (Describe how to do the MLE). Plot the likelihood distributions of MonthlyIncome, JobRole, HourlyRate, and MaritalStatus for different Attrition values."
   ]
  },
  {
   "cell_type": "markdown",
   "metadata": {},
   "source": [
    "## Answer \n",
    "\n",
    "ใช้ Gaussian Distribution ในการ model histograms โดย MLE Gaussian คือ\n",
    "\n"
   ]
  },
  {
   "cell_type": "markdown",
   "metadata": {},
   "source": [
    "## T9 \n",
    "\n",
    "What is the prior distribution of the two classes?\n",
    "\n",
    "**Naive Bayes classification**\n",
    "\n",
    "We are now ready to build our Naive Bayes classifier. Which makes a decision according to\n",
    "\n",
    "\\begin{aligned}\n",
    "H(x) = \\frac{p(leave)}{p(stay)}\\Pi_{i=1}\\frac{p(x_i|leave)}{p(x_i|stay)}\n",
    "\\end{aligned}\n",
    "\n",
    "If $H(x)$ is larger than 1, then classify it as leave. If $H(x)$ is smaller than 1, then classify it as `stay`.\n",
    "\n",
    "Note we often work in the log scale to prevent floating point underflow. In other words,\n",
    "\n",
    "\\begin{aligned}\n",
    "lH(x) = logp(leave) −logp(stay)+ \\Sigma_{i=1}[logp(xi|leave) −logpp(xi|stay)]\n",
    "\\end{aligned}\n",
    "\n",
    "If `lH(x)` is larger than 0, then classify it as leave. If `lH(x)` is smaller than 0, then classify it as stay."
   ]
  },
  {
   "cell_type": "markdown",
   "metadata": {},
   "source": [
    "## T10\n",
    "\n",
    "If we use the current Naive Bayes with our current Maximum Likelihood Estimates, we will find that some $P(x_i|attrition)$ will be zero and will result in the entire product term to be zero. Propose a method to fix this problem."
   ]
  },
  {
   "cell_type": "markdown",
   "metadata": {},
   "source": [
    "## T11\n",
    "\n",
    "Implement your Naive Bayes classifier. Use the learned distributions to classify the test set. Don’t forget to allow your classifier to handle missing values in the test set. Report the overall Accuracy. Then, report the Precision, Recall, and F score for detecting attrition. See Lecture 1 for the definitions of each metric\n",
    "\n",
    "#### Probability density function\n",
    "\n",
    "Now, instead of using histogram discretization, we will assume that our features are normally distributed. In other words, for certain feature types, $P(x_i|attrition)$ is now Normally distributed. By doing so, we can estimate the mean and standard deviation for each feature and compute the probability of each test feature by using the Gaussian probability density function instead. You can do this by calling:\n",
    "\n",
    "`scipy.stats.norm(mean, std).pdf(feature_value)`"
   ]
  },
  {
   "cell_type": "markdown",
   "metadata": {},
   "source": [
    "## T12\n",
    "\n",
    "Use the learned distributions to classify the test set. Report the results using the same metric as the previous question.\n",
    "\n",
    "**Baseline comparison**\n",
    "\n",
    "In machine learning, we need to be able to evaluate how good our model is. We usually compare our model with a different model and show that our model is better. Sometimes we do not have a candidate model to evaluate our method against. In this homework, we will look at two simple baselines, the random choice, and the majority rule."
   ]
  },
  {
   "cell_type": "markdown",
   "metadata": {},
   "source": [
    "## T13\n",
    "\n",
    "The random choice baseline is the accuracy if you make a random guess for each test sample. Give random guess (50% leaving, and 50% staying) to the test samples. Report the overall Accuracy. Then, report the Precision, Recall, and F score for attrition prediction using the random choice baseline."
   ]
  },
  {
   "cell_type": "markdown",
   "metadata": {},
   "source": [
    "## T14\n",
    "\n",
    "The majority rule is the accuracy if you use the most frequent class from the training set as the classification decision. Report the overall Accuracy. Then, report the Precision, Recall, and F score for attrition prediction using the majority rule baseline."
   ]
  },
  {
   "cell_type": "markdown",
   "metadata": {},
   "source": [
    "## T15\n",
    "\n",
    "Compare the two baselines with your Naive Bayes classifier.\n",
    "\n",
    "**Threshold finding**\n",
    "\n",
    "In practice, instead of comparing `lH(x)` against 0, we usually compare against a threshold, t. We can change the threshold so that we maximize the accuracy,\n",
    "precision, recall, or F score (depending on which measure we want to optimize)."
   ]
  },
  {
   "cell_type": "markdown",
   "metadata": {},
   "source": [
    "## T16\n",
    "\n",
    "Use the following threshold values\n",
    "\n",
    "`t = np.arange(-5,5,0.05)`\n",
    "\n",
    "find the best accuracy, and F score (and the corresponding thresholds)\n",
    "\n",
    "**Receiver Operating Characteristic (RoC) curve**\n",
    "\n",
    "The recall rate (true positive rate) and the false alarm rate can change as we vary the threshold. The false alarm rate will deteriorate as we decrease the\n",
    "threshold (more false alarms). On the other hand, the recall rate will improve. This is also another trade-off machine learning practitioners need to consider. If we plot the false alarm vs recall as we vary the threshold (false alarm as the x-axis and recall as the y-axis), we get a plot called the ”Receiver operating characteristic (RoC) curve.” The RoC curve illustrates the performance of a\n",
    "binary classifier (Will this person leave? Will this person survive the Titanic?\n",
    "yes or no) as the threshold is varied. An example RoC curve is shown below"
   ]
  },
  {
   "cell_type": "markdown",
   "metadata": {},
   "source": [
    "## T17\n",
    "\n",
    "Plot the RoC of your classifier."
   ]
  },
  {
   "cell_type": "markdown",
   "metadata": {},
   "source": [
    "## T18\n",
    "\n",
    "Change the number of discretization bins to 5. What happens to the RoC curve? Which discretization is better? The number of discretization bins can be considered as a hyperparameter, and must be chosen by comparing the final performance."
   ]
  },
  {
   "cell_type": "markdown",
   "metadata": {},
   "source": [
    "## T19\n",
    "\n",
    "Submit your code (.py or .ipynb) on mycourseville.\n",
    "If you’ve made it this far, congratulations! you’ve just created simple models that can help HR deal with one of their biggest problems. Simple, isn’t it?\n",
    "This is a real world task with real implications, and I personally have been approached by big companies to help with this.\n",
    "\n",
    "**(Optional) Classifier Variance**\n",
    "\n",
    "Recall, in class, we talked about the variance of a classifier as the training set changes. In this section, we will evaluate our model if we shuffle the training and test data. This will give a measure whether our recognizer is good just because we are lucky (and give statistical significance to our experiments)."
   ]
  },
  {
   "cell_type": "markdown",
   "metadata": {},
   "source": [
    "## OT3\n",
    "\n",
    "Shuffle the database, and create new test and train sets. Redo the entire training and evaluation process 10 times (each time with a new training and test set). Calculate the mean and variance of the accuracy rate."
   ]
  }
 ],
 "metadata": {
  "interpreter": {
   "hash": "316b4b59e82953916264da13829cf771f4d288e638833076d94014477ae3cdae"
  },
  "kernelspec": {
   "display_name": "Python 3.7.12 64-bit ('3.7.12': pyenv)",
   "language": "python",
   "name": "python3"
  },
  "language_info": {
   "codemirror_mode": {
    "name": "ipython",
    "version": 3
   },
   "file_extension": ".py",
   "mimetype": "text/x-python",
   "name": "python",
   "nbconvert_exporter": "python",
   "pygments_lexer": "ipython3",
   "version": "3.7.12"
  },
  "orig_nbformat": 4
 },
 "nbformat": 4,
 "nbformat_minor": 2
}
