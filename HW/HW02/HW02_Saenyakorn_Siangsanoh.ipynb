{
 "cells": [
  {
   "cell_type": "markdown",
   "metadata": {},
   "source": [
    "# Homework 2 MLE and Naive Bayes"
   ]
  },
  {
   "cell_type": "markdown",
   "metadata": {},
   "source": [
    "6232035721 Saenyakorn Siangsanoh"
   ]
  },
  {
   "cell_type": "markdown",
   "metadata": {},
   "source": [
    "## MLE\n",
    "\n",
    "Consider the following very simple model for stock pricing. The price at the end\n",
    "of each day is the price of the previous day multiplied by a fixed, but unknown,\n",
    "rate of return, $α$, with some noise, $w$. For a two-day period, we can observe the\n",
    "following sequence"
   ]
  },
  {
   "cell_type": "markdown",
   "metadata": {},
   "source": [
    "$y2 = αy1 + w1$\n",
    "\n",
    "$y1 = αy0 + w0$"
   ]
  },
  {
   "cell_type": "markdown",
   "metadata": {},
   "source": [
    "where the noises $w_0$, $w_1$ are iid with the distribution $N(0,σ^2), y_0 ∼N(0,λ)$\n",
    "is independent of the noise sequence. $σ^2$ and $λ$ are known, while $α$ is unknown."
   ]
  },
  {
   "cell_type": "markdown",
   "metadata": {},
   "source": [
    "## T1\n",
    "\n",
    "Find the MLE of the rate of return, α, given the observed price at\n",
    "the end of each day $y_2$,$y_1$,$y_0$. In other words, compute for the value of α that\n",
    "maximizes $p(y_2,y_1,y_0|α)$"
   ]
  },
  {
   "cell_type": "markdown",
   "metadata": {},
   "source": [
    "**Hint**: This is a Markov process, e.g. $y_2$ is independent of $y_0$ given $y_1$.\n",
    "In general, a process is Markov if $p(y_n|y_{n−1},y_{n−2},...) = p(y_n|y_{n−1})$. In other\n",
    "words, the present is independent of the past $(y_{n−2},y_{n−3},...)$, conditioned on\n",
    "the immediate past $y_{n−1}$. You may also find the steps of the proof for logistic\n",
    "regression we did in class useful."
   ]
  },
  {
   "cell_type": "markdown",
   "metadata": {},
   "source": [
    "We know that $p(y_2,y_1,y_0|α) = p(y_2|y_1)p(y_1|y_0)p(y_0|\\alpha)$\n",
    "\n",
    "And \n",
    "\n",
    "$y_0 ∼N(0,λ)$\n",
    "\n",
    "$y_1 ∼N(\\alpha y_0, \\sigma^2)$\n",
    "\n",
    "$y_2 ∼N(\\alpha y_1, \\sigma^2)$\n",
    "\n",
    "So,\n",
    "\\begin{aligned}\n",
    "p(y_2,y_1,y_0|α) &= (\\frac{1}{2\\sqrt{2\\pi}}e^{\\frac{-1}{2}\\frac{(y_2-\\alpha y_1)^2}{\\sigma^2}})(\\frac{1}{2\\sqrt{2\\pi}}e^{\\frac{-1}{2}\\frac{(y_1-\\alpha y_0)^2}{\\sigma^2}})(\\frac{1}{2\\sqrt{2\\pi}}e^{\\frac{-1}{2}\\frac{(y_0-0)^2}{\\lambda}}) \\\\\n",
    "&= (\\frac{1}{2\\sqrt{2\\pi}})^3 exp(\\frac{-1}{2}(\\frac{(y_2-\\alpha y_1)^2}{\\sigma^2} + \\frac{(y_1-\\alpha y_0)^2}{\\sigma^2} + \\frac{y_0^2}{\\lambda}))) \\\\\n",
    "\\end{aligned}\n",
    " \n",
    "To find argmax, take $\\frac{d}{d\\alpha} log(p(y_2,y_1,y_0|α)) = 0$\n",
    "\\begin{aligned}\n",
    "\\frac{d}{d\\alpha}(\\frac{(y_2-\\alpha y_1)^2}{\\sigma^2} + \\frac{(y_1-\\alpha y_0)^2}{\\sigma^2} + \\frac{y_0^2}{\\lambda}) &= 0 \\\\\n",
    "\\frac{2(-y_1)(y_2 - \\alpha y_1)}{\\sigma} + \\frac{2(-y_0)(y_1 - \\alpha y_0)}{\\sigma} & = 0 \\\\ \n",
    "(y_2y_1 - \\alpha y_1^2) + (y_1y_0 - \\alpha y_0^2) & = 0 \\\\\n",
    "\\alpha(y_2^2+y_1^2) &= y_2y_1 + y_1y_0 \\\\ \n",
    "\\alpha &= \\frac{y_2y_1 + y_1y_0}{y_2^2+y_1^2}\n",
    "\\end{aligned}"
   ]
  },
  {
   "cell_type": "markdown",
   "metadata": {},
   "source": [
    "## OT1\n",
    "\n",
    "Consider the general case, where\n",
    "\n",
    "$y_{n+1} = αy_n + w_n$,$n$ = 0,1,2,...\n",
    "\n",
    "Find the MLE given the observed price $y_{N+1},y_N,...,y_0$"
   ]
  },
  {
   "cell_type": "markdown",
   "metadata": {},
   "source": [
    "From **T1**, \n",
    "\n",
    "To find argmax of $p(y_{n+1},y_n,...,y_0|α)$, take $\\frac{d}{d\\alpha} log(p(y_{n+1},y_n,...,y_0|α)) = 0$\n",
    "\n",
    "\\begin{aligned}\n",
    "\\frac{d}{d\\alpha}(\\frac{(y_{n+1}-\\alpha y_n)^2}{\\sigma^2} + \\frac{(y_n-\\alpha y_{n-1})^2}{\\sigma^2} + ... + \\frac{y_0^2}{\\lambda}) &= 0 \\\\\n",
    "\n",
    "(y_{n+1}y_n - \\alpha y_n^2) + (y_ny_{n-1} - \\alpha y_{n-1}^2) + ... + (y_1y_0 - \\alpha y_0^2) & = 0 \\\\\n",
    "\n",
    "\\frac{y_{n+1}y_n + y_ny_{n-1} + ... + y_1y_0}{y_{n+1}^2+y_n^2+...+y_1^2} &= \\alpha \\\\\n",
    "\\end{aligned}\n",
    "\n",
    "$\\alpha = \\frac{y_{n+1}y_n + y_ny_{n-1} + ... + y_1y_0}{y_{n+1}^2+y_n^2+...+y_1^2}$\n"
   ]
  },
  {
   "cell_type": "markdown",
   "metadata": {},
   "source": [
    "## Simple Bayes Classifier\n",
    "\n",
    "A student in Pattern Recognition course had finally built the ultimate classifier\n",
    "for cat emotions. He used one input features: the amount of food the cat ate\n",
    "that day, x (Being a good student he already normalized x to standard Normal).\n",
    "He proposed the following likelihood probabilities for class 1 (happy cat) and 2\n",
    "(sad cat)"
   ]
  },
  {
   "cell_type": "markdown",
   "metadata": {},
   "source": [
    "$P(x|w1) = N(5,2)$\n",
    "\n",
    "$P(x|w2) = N(0,2)$ \n"
   ]
  },
  {
   "cell_type": "markdown",
   "metadata": {},
   "source": [
    "## T2\n",
    "\n",
    "Plot the posteriors values of the two classes on the same axis. Using the likelihood ratio test, what is the decision boundary for this classifier? Assume equal prior probabilities."
   ]
  },
  {
   "cell_type": "code",
   "execution_count": 102,
   "metadata": {},
   "outputs": [],
   "source": [
    "import numpy as np\n",
    "import matplotlib.pyplot as plt\n",
    "import scipy.stats as stats\n",
    "import pandas as pd\n",
    "import math\n",
    "from sklearn.model_selection import train_test_split"
   ]
  },
  {
   "cell_type": "code",
   "execution_count": 2,
   "metadata": {},
   "outputs": [
    {
     "name": "stdout",
     "output_type": "stream",
     "text": [
      "intersect: x =  2.5\n"
     ]
    },
    {
     "data": {
      "image/png": "[encoded data removed]",
      "text/plain": [
       "<Figure size 432x288 with 1 Axes>"
      ]
     },
     "metadata": {
      "needs_background": "light"
     },
     "output_type": "display_data"
    }
   ],
   "source": [
    "def plot_bayes_classifier(mu_1, mu_2, vars, p_w1, p_w2):\n",
    "  # Assume same variance for both classes\n",
    "  x_1 = np.linspace(mu_1 - 4*vars, mu_1 + 4*vars, 10000)\n",
    "  y_1 = stats.norm.pdf(x_1, mu_1, vars) * p_w1\n",
    "  x_2 = np.linspace(mu_2 - 4*vars, mu_2 + 4*vars, 10000)\n",
    "  y_2 = stats.norm.pdf(x_2, mu_2, vars) * p_w2\n",
    "\n",
    "  intersect_x = (2*vars**2*math.log(p_w2) - 2*vars**2*math.log(p_w1) + mu_1**2 - mu_2**2) / (2 * mu_1 - 2 * mu_2)\n",
    "  print(\"intersect: x = \", intersect_x)\n",
    "\n",
    "  # Plot the graph\n",
    "  plt.plot(x_1, y_1, label='P(x|w1)P(w1)', color='blue')\n",
    "  plt.fill_between(x_1[x_1 < intersect_x], y_1[x_1 < intersect_x], color='blue', alpha=0.3)\n",
    "  plt.plot(x_2, y_2, label='P(x|w2)P(w2)', color='orange')\n",
    "  plt.fill_between(x_2[x_2 > intersect_x], y_2[x_2 > intersect_x], color='orange', alpha=0.3)\n",
    "  plt.legend()\n",
    "  plt.show()\n",
    "\n",
    "# Assume P(w1) = 0.5 and P(w2) = 0.5\n",
    "vars = 2\n",
    "mu_1 = 5\n",
    "mu_2 = 0\n",
    "p_w1 = 0.5\n",
    "p_w2 = 0.5\n",
    "plot_bayes_classifier(mu_1, mu_2, vars, p_w1, p_w2)"
   ]
  },
  {
   "cell_type": "markdown",
   "metadata": {},
   "source": [
    "Since we assume priors are equal, that mean $P(w_1)$ = $P(w_2)$  "
   ]
  },
  {
   "cell_type": "markdown",
   "metadata": {},
   "source": [
    "## T3\n",
    "\n",
    "What happen to the decision boundary if the cat is happy with a prior of 0.8?"
   ]
  },
  {
   "cell_type": "code",
   "execution_count": 3,
   "metadata": {},
   "outputs": [
    {
     "name": "stdout",
     "output_type": "stream",
     "text": [
      "intersect: x =  1.3909645111040876\n"
     ]
    },
    {
     "data": {
      "image/png": "[encoded data removed]",
      "text/plain": [
       "<Figure size 432x288 with 1 Axes>"
      ]
     },
     "metadata": {
      "needs_background": "light"
     },
     "output_type": "display_data"
    }
   ],
   "source": [
    "vars = 2\n",
    "mu_1 = 5\n",
    "mu_2 = 0\n",
    "p_w1 = 0.8\n",
    "p_w2 = 0.2\n",
    "plot_bayes_classifier(mu_1, mu_2, vars, p_w1, p_w2)"
   ]
  },
  {
   "cell_type": "markdown",
   "metadata": {},
   "source": [
    "## OT2\n",
    "\n",
    "For the ordinary case of $P(x|w1)$ = $N(μ1,σ2)$, $P(x|w2)$ = $N(μ2,σ2)$,\n",
    "$p(w1) = p(w2) = 0.5$, prove that the decision boundary is at $x = \\frac{\\mu_1+\\mu_2}{2}$\n",
    "\n",
    "If the student changed his model to\n",
    "\n",
    "$P(x|w1) = N(5,2)$\n",
    "\n",
    "$P(x|w2) = N(0,4)$"
   ]
  },
  {
   "cell_type": "markdown",
   "metadata": {},
   "source": [
    "## Employee Attrition Prediction\n",
    "\n",
    "In this part of the homework, we will work on employee attrition prediction\n",
    "using data from Kaggle IBM HR Analytics Employee Attrition & Performance.\n",
    "\n",
    "https://www.kaggle.com/pavansubhashtibm-hr-analytics-attrition-dataset/home\n",
    "\n",
    "### The data\n",
    "\n",
    "For each employee, 34 features are provided. We will use these features to predict each employee attrition e.g whether the employee will leave the company (**yes** for leaving, **no** for staying)\n",
    "\n",
    "Notable features are:\n",
    "- Education: 1 ’Below College’, 2 ’College’, 3 ’Bachelor’, 4 ’Master’, 5 ’Doctor’.\n",
    "- Environment Satisfaction: 1 ’Low’, 2 ’Medium’, 3 ’High’, 4 ’Very High’.\n",
    "- Job Involvement: 1 ’Low’, 2 ’Medium’, 3 ’High’, 4 ’Very High’.\n",
    "- Job Satisfaction: 1 ’Low’, 2 ’Medium’, 3 ’High’, 4 ’Very High’.\n",
    "- Performance Rating: 1 ’Low’, 2 ’Good’, 3 ’Excellent’, 4 ’Outstanding’.\n",
    "- Relationship Satisfaction: 1 ’Low’, 2 ’Medium’, 3 ’High’, 4 ’Very High’.\n",
    "- WorkLifeBalance: 1 ’Bad’, 2 ’Good’, 3 ’Better’, 4 ’Best’.\n",
    "\n",
    "### The database\n",
    "\n",
    "First let’s look at the given data file `hr-employee-attrition-with-null.csv`.\n",
    "Load the data using pandas. Use `describe()` and `head()` to get a sense of what the data is like. Our target of prediction is Attrition. Other columns are our input features.\n",
    "\n",
    "### Data cleaning\n",
    "There are many missing values in this database. They are represented with NaN. In the previous homework, we filled the missing values with the mean, median, or mode values. That is because classifiers such as logistic regression cannot deal with missing feature values. However, for the case of Naive Bayes which we will use in this homework compares $\\Pi_ip(x_i|class)$ and treat each $x_i$ as independent features. Thus, if a feature i is missing, we can drop that term\n",
    "from the comparison without having to guess what the missing feature is. First, convert the yes and no in this data table to 1 and 0. Then, we have to convert each categorical feature to number.\n",
    "\n",
    "```\n",
    "all.loc[all[\"Attrition\"] == \"no\", \"Attrition\"] = 0.0\n",
    "all.loc[all[\"Attrition\"] == \"yes\", \"Attrition\"] = 1.0\n",
    "for col in cat_cols:\n",
    "  all[col] = pd.Categorical(all[col]).codes\n",
    "```\n",
    "\n",
    "We will also drop the employee numbers.\n",
    "\n",
    "```\n",
    "all = all.drop(columns = \"EmployeeNumber\")\n",
    "```\n",
    "\n",
    "There is no standard rule on how much data you should segment into as training and test set. But for now let’s use 90% training 10% testing. Select 10% of the is `Attrition == yes` and 10% of the is `Attrition == no` as your testing set, test set. Then, use the rest of the data as your training set, `train set`.\n",
    "\n",
    "\n",
    "### Histogram discretization\n",
    "\n",
    "In class, we learned that in order to create a Bayes Classifier we first need to estimate the posterior or likelihood probability distributions. The simplest way to estimate probability distributions is via histograms. To do histogram estimation, we divide the entire data space into a finite number of bins. Then, we count how many data points are there in each bin and normalize using the total number of data points (so that the probability sums to 1). Since we are grouping a continuous valued feature into a finite number of bins, we can also\n",
    "call this process, discretization. The following code create a histogram of a column col from `train set`\n",
    "\n",
    "```\n",
    "# remove NaN values\n",
    "train_col_no_nan = train_set[~np.isnan(train_set[col])]\n",
    "# bin the data into 40 equally spaced bins\n",
    "# hist is the count for each bin\n",
    "# bin_edge is the edge values of the bins\n",
    "hist, bin_edge = np.histogram(train_col_no_nan, 40)\n",
    "# make sure to import matplotlib.pyplot as plt\n",
    "# plot the histogram\n",
    "plt.fill_between(bin_edge.repeat(2)[1:-1],hist.repeat(2),facecolor=’steelblue’)\n",
    "plt.show()\n",
    "```"
   ]
  },
  {
   "cell_type": "code",
   "execution_count": 143,
   "metadata": {},
   "outputs": [],
   "source": [
    "# Gather training data\n",
    "data_url = \"https://raw.githubusercontent.com/ekapolc/pattern_2022/main/HW/HW02/hr-employee-attrition-with-null.csv\"\n",
    "all_data = pd.read_csv(data_url)"
   ]
  },
  {
   "cell_type": "code",
   "execution_count": 144,
   "metadata": {},
   "outputs": [],
   "source": [
    "# Convert to codes\n",
    "all_data.loc[all_data[\"Attrition\"] == \"Yes\", \"Attrition\"] = 1.0\n",
    "all_data.loc[all_data[\"Attrition\"] == \"No\", \"Attrition\"] = 0.0\n",
    "for col in [\"Education\", \"EnvironmentSatisfaction\", \"JobInvolvement\", \"JobSatisfaction\", \"PerformanceRating\", \"RelationshipSatisfaction\", \"WorkLifeBalance\"]:\n",
    "  all_data[col] = pd.Categorical(all_data[col]).codes"
   ]
  },
  {
   "cell_type": "code",
   "execution_count": 145,
   "metadata": {},
   "outputs": [],
   "source": [
    "# Drop unnecessary columns\n",
    "all_data = all_data.drop(columns = [\"EmployeeNumber\"])"
   ]
  },
  {
   "cell_type": "code",
   "execution_count": 146,
   "metadata": {},
   "outputs": [
    {
     "name": "stdout",
     "output_type": "stream",
     "text": [
      "X_train:  (1323, 35)\n",
      "X_test:  (147, 35)\n",
      "y_train:  (1323,)\n",
      "y_test:  (147,)\n"
     ]
    }
   ],
   "source": [
    "# Separate data into training and testing\n",
    "X_train, X_test, y_train, y_test = train_test_split(all_data, all_data[\"Attrition\"], test_size=0.1, random_state=42, stratify=all_data[\"Attrition\"])\n",
    "print(\"X_train: \", X_train.shape)\n",
    "print(\"X_test: \", X_test.shape)\n",
    "print(\"y_train: \", y_train.shape)\n",
    "print(\"y_test: \", y_test.shape)"
   ]
  },
  {
   "cell_type": "markdown",
   "metadata": {},
   "source": [
    "## T4\n",
    "\n",
    "Observe the histogram for `Age`, `MonthlyIncome` and `DistanceFromHome`.\n",
    "How many bins have zero counts? Do you think this is a good discretization?\n",
    "Why?"
   ]
  },
  {
   "cell_type": "code",
   "execution_count": 147,
   "metadata": {},
   "outputs": [
    {
     "data": {
      "image/png": "[encoded data removed]",
      "text/plain": [
       "<Figure size 1280x800 with 3 Axes>"
      ]
     },
     "metadata": {
      "needs_background": "light"
     },
     "output_type": "display_data"
    }
   ],
   "source": [
    "bins = 40\n",
    "cols = [\"Age\", \"MonthlyIncome\", \"DistanceFromHome\"]\n",
    "plt.figure(figsize=(16, 10), dpi=80)\n",
    "for i in range(len(cols)):\n",
    "  col = cols[i]\n",
    "  ax = plt.subplot(2, 3, i+1)\n",
    "  X_train[col].hist(bins=bins)"
   ]
  },
  {
   "cell_type": "markdown",
   "metadata": {},
   "source": [
    "## Answer\n",
    "\n",
    "มีเพียง \"DistanceFromHome\" ที่มี bin ที่ไม่มีค่าอยู่ในนั้น ซึ่งคือ discretization ไม่ดี เพราะอาจจะทำให้การทำนายตอนทำ model ผิดพลาดได้"
   ]
  },
  {
   "cell_type": "markdown",
   "metadata": {},
   "source": [
    "## T5\n",
    "\n",
    "Can we use a Gaussian to estimate this histogram? Why? What about a\n",
    "Gaussian Mixture Model (GMM)?\n",
    "The above discretization equally segments the space into equally spaced bins. This is the best method to segment if you know nothing about the data. Still, doing so may leave us with many bins with zero counts when we have too little data. To prevent this issue, we might assume that the distribution of our data is Normal then draw the probabilities of each data point from this distribution instead. We will do this later. For now, do\n",
    "\n",
    "1. First set the number of bins to 10 for `Age`, `MonthlyIncome` and\n",
    "`DistanceFromHome`. **Make numbers of bin a parameter as we will change\n",
    "this later**.\n",
    "\n",
    "2. Bin each values in the training set into bins using the function `np.digitize`, then count the number in each bins using `np.bincount`. Be careful with the maximum and minimum values, your first bin should cover `−inf`, and your final bin should cover `inf`, so that you can handle test data that might be outside of the minimum and maximum values."
   ]
  },
  {
   "cell_type": "markdown",
   "metadata": {},
   "source": [
    "## Answer\n",
    "\n",
    "สำหรับ Age ใช้ Gaussian ได้ แต่สำหรับ MonthlyIncome กับ DistanceFromHome น่าจะไม่ได้ (น่าจะเป็น beta distribution) และไม่น่าใช้ GMM ได้ เพราะยังไม่ค่อยชัดเจนว่ามีมากกว่า 1 Gaussian ใน histogram"
   ]
  },
  {
   "cell_type": "code",
   "execution_count": 182,
   "metadata": {},
   "outputs": [],
   "source": [
    "# Bin each values into bins\n",
    "def bin_data(data: pd.Series, bins=10):\n",
    "  bin_edge = np.block([-np.inf, np.arange(data.min(), data.max(), bins),  np.inf])\n",
    "  inds = np.digitize(data, bin_edge)\n",
    "  return np.bincount(inds)"
   ]
  },
  {
   "cell_type": "markdown",
   "metadata": {},
   "source": [
    "## T6\n",
    "\n",
    "Now plot the histogram according to the method described above (with\n",
    "10, 40, and 100 bins) and show 3 plots for Age, MonthlyIncome, and DistanceFromHome. Which bin size is most sensible for each features? Why?"
   ]
  },
  {
   "cell_type": "code",
   "execution_count": 201,
   "metadata": {},
   "outputs": [
    {
     "data": {
      "image/png": "[encoded data removed]",
      "text/plain": [
       "<Figure size 1280x800 with 9 Axes>"
      ]
     },
     "metadata": {
      "needs_background": "light"
     },
     "output_type": "display_data"
    }
   ],
   "source": [
    "bins = [10, 40, 100]\n",
    "cols = [\"Age\", \"MonthlyIncome\", \"DistanceFromHome\"]\n",
    "fig, axs = plt.subplots(ncols=3, nrows=3, figsize=(16, 10), dpi=80)\n",
    "for i in range(len(bins)):\n",
    "  for j in range(len(cols)):\n",
    "    axs[j][i].set_title(f\"{cols[j]} bins={bins[i]}\")\n",
    "    axs[j][i].hist(X_train[cols[j]], bins=bins[i])"
   ]
  },
  {
   "cell_type": "markdown",
   "metadata": {},
   "source": [
    "## Answer\n",
    "\n",
    "สำหรับ Age, bins ที่เหมาะสมจะเป็น 40 เพราะสามารถบอกการกระจายข้อมูลได้ละเอียดพอดี ไม่หยาบและไม่ละเอียดจนเกินไป\n",
    "\n",
    "สำหรับ MonthlyIncome, bins ที่เหมาะสมจะอยู่ที่ 100 เพราะข้อมูลมีการกระจายตัวมาก \n",
    "\n",
    "สำหรับ DistanceFromHome, bins ที่เหมาะสมคือ 10 เพราะข้อมูล DistanceFromHome จะอยู่แค่ในช่วงแคบ ๆ ไม่จำเป็นต้องใช้ bins จำนวนเยอะ ๆ"
   ]
  },
  {
   "cell_type": "markdown",
   "metadata": {},
   "source": [
    "## T7\n",
    "\n",
    "For the rest of the features, which one should be discretized? What are the criteria for choosing whether we should discretize a feature or not? Answer this and discretize those features into 10 bins each. In other words, figure out the bin edge for each feature, then use `digitize()` to convert the features to discrete values.\n",
    "\n",
    "**The MLE for the likelihood distribution of discretized histograms**\n",
    "\n",
    "We would like to build a Naive Bayes classifier which compares the posterior $p(leave|x_i)$ against $p(stay|x_i)$. However, figuring out $p(class|x_i)$ is often hard (not true for this case). Thus, we turn to the likelihood $p(x_i|class)$, which can be derived from the discretized histograms."
   ]
  },
  {
   "cell_type": "markdown",
   "metadata": {},
   "source": [
    "## Answer\n",
    "\n",
    "ทุก Columns ที่เป็นจำนวนและมี variance ของข้อมูลประมาณหนึ่ง เช่น \"DailyRate\", \"HourlyRate\", \"MonthlyIncome\" เป็นต้น แต่ข้อมูลที่เป็นประเภทที่มีการกระจายตัวต่ำ ๆ (min-max อยู่ที่ 1-4 หรืออะไรประมาณนั้น) อาจไม่จำเป็น เช่น \"Education\", \"PerformanceRating\", \"StockOptionLevel\""
   ]
  },
  {
   "cell_type": "markdown",
   "metadata": {},
   "source": [
    "## T8\n",
    "\n",
    "What kind of distribution should we use to model histograms? (Answer a distribution name) What is the MLE for the likelihood distribution? (Describe how to do the MLE). Plot the likelihood distributions of MonthlyIncome, JobRole, HourlyRate, and MaritalStatus for different Attrition values."
   ]
  },
  {
   "cell_type": "code",
   "execution_count": 19,
   "metadata": {},
   "outputs": [
    {
     "data": {
      "image/png": "[encoded data removed]",
      "text/plain": [
       "<Figure size 800x800 with 4 Axes>"
      ]
     },
     "metadata": {
      "needs_background": "light"
     },
     "output_type": "display_data"
    }
   ],
   "source": [
    "features = [\"MonthlyIncome\", \"JobRole\", \"HourlyRate\", \"MaritalStatus\"]\n",
    "plt.figure(figsize=(10, 10), dpi=80)\n",
    "for i in range(len(features)):\n",
    "  ax = plt.subplot(2, 2, i+1)\n",
    "  data_yes = train_data.loc[train_data[\"Attrition\"] == 1, features[i]]\n",
    "  data_no = train_data.loc[train_data[\"Attrition\"] == 0, features[i]]\n",
    "  ax.hist(data_yes, bins=10, label=features[i] + \"(YES)\", density=True, alpha=0.35, color=\"skyblue\")\n",
    "  ax.hist(data_no, bins=10, label=features[i] + \"(NO)\", density=True, alpha=0.35, color=\"pink\")\n",
    "  ax.legend()\n",
    "plt.show()"
   ]
  },
  {
   "cell_type": "markdown",
   "metadata": {},
   "source": [
    "## Answer \n",
    "\n",
    "ใช้ Gaussian Distribution ในการ model histograms โดย MLE Gaussian คือ\n",
    "\n"
   ]
  },
  {
   "cell_type": "markdown",
   "metadata": {},
   "source": [
    "## T9 \n",
    "\n",
    "What is the prior distribution of the two classes?\n",
    "\n",
    "**Naive Bayes classification**\n",
    "\n",
    "We are now ready to build our Naive Bayes classifier. Which makes a decision according to\n",
    "\n",
    "\\begin{aligned}\n",
    "H(x) = \\frac{p(leave)}{p(stay)}\\Pi_{i=1}\\frac{p(x_i|leave)}{p(x_i|stay)}\n",
    "\\end{aligned}\n",
    "\n",
    "If $H(x)$ is larger than 1, then classify it as leave. If $H(x)$ is smaller than 1, then classify it as `stay`.\n",
    "\n",
    "Note we often work in the log scale to prevent floating point underflow. In other words,\n",
    "\n",
    "\\begin{aligned}\n",
    "lH(x) = logp(leave) −logp(stay)+ \\Sigma_{i=1}[logp(xi|leave) −logpp(xi|stay)]\n",
    "\\end{aligned}\n",
    "\n",
    "If `lH(x)` is larger than 0, then classify it as leave. If `lH(x)` is smaller than 0, then classify it as stay."
   ]
  },
  {
   "cell_type": "code",
   "execution_count": 145,
   "metadata": {},
   "outputs": [
    {
     "name": "stdout",
     "output_type": "stream",
     "text": [
      "Prior distribution (Yes): 0.1649659863945578\n",
      "Prior distribution (No): 0.8350340136054422\n"
     ]
    }
   ],
   "source": [
    "# Find prior distribution\n",
    "def get_prior(train_data, _class=0):\n",
    "  return train_data.loc[train_data[\"Attrition\"] == _class, \"Attrition\"].count() / train_data.shape[0]\n",
    "\n",
    "print(\"Prior distribution (Yes):\", get_prior(train_data, 1))\n",
    "print(\"Prior distribution (No):\", get_prior(train_data, 0))"
   ]
  },
  {
   "cell_type": "markdown",
   "metadata": {},
   "source": [
    "## T10\n",
    "\n",
    "If we use the current Naive Bayes with our current Maximum Likelihood Estimates, we will find that some $P(x_i|attrition)$ will be zero and will result in the entire product term to be zero. Propose a method to fix this problem."
   ]
  },
  {
   "cell_type": "markdown",
   "metadata": {},
   "source": [
    "## Answer \n",
    "\n",
    "ใช้วิธี flooring คือแทนที่จะให้ $P(x_i|attrition) = 0$ ให้เป็นค่าน้อยมาก ๆ แทน เช่น $P(x_i|attrition) = 10^{-20}$ เพื่อความง่ายในการ implement เราจะบวก $10^{-20}$ ให้ทุก $P(x_i|attrition)$\n",
    "\n"
   ]
  },
  {
   "cell_type": "markdown",
   "metadata": {},
   "source": [
    "## T11\n",
    "\n",
    "Implement your Naive Bayes classifier. Use the learned distributions to classify the test set. Don’t forget to allow your classifier to handle missing values in the test set. Report the overall Accuracy. Then, report the Precision, Recall, and F score for detecting attrition. See Lecture 1 for the definitions of each metric\n",
    "\n",
    "#### Probability density function\n",
    "\n",
    "Now, instead of using histogram discretization, we will assume that our features are normally distributed. In other words, for certain feature types, $P(x_i|attrition)$ is now Normally distributed. By doing so, we can estimate the mean and standard deviation for each feature and compute the probability of each test feature by using the Gaussian probability density function instead. You can do this by calling:\n",
    "\n",
    "`scipy.stats.norm(mean, std).pdf(feature_value)`"
   ]
  },
  {
   "cell_type": "code",
   "execution_count": 144,
   "metadata": {},
   "outputs": [
    {
     "name": "stdout",
     "output_type": "stream",
     "text": [
      "0.1649659863945578 0.37130775059322507\n"
     ]
    }
   ],
   "source": [
    "# Define Bayes classifier\n",
    "class GaussianNaiveBayes:\n",
    "  def __init__(self, df):\n",
    "    self.prior_yes = get_prior(df, 1)\n",
    "    self.prior_no = get_prior(df, 0)\n",
    "    self.train_data = df\n",
    "    self._train()\n",
    "\n",
    "  def _train(self):\n",
    "    # Calculate MLE for each feature\n",
    "    self.table = {}\n",
    "    # We assume that the features distribution is Gaussian\n",
    "    for feature in self.train_data.columns:\n",
    "      self.table[feature] = {}\n",
    "      self.table[feature][\"mean\"] = self.train_data.loc[self.train_data[\"Attrition\"] == 1, feature].mean()\n",
    "      self.table[feature][\"std\"] = self.train_data.loc[self.train_data[\"Attrition\"] == 1, feature].std()\n",
    "      self.table[feature][\"count\"] = self.train_data.loc[self.train_data[\"Attrition\"] == 1, feature].count()\n",
    "      self.table[feature][\"count_no\"] = self.train_data.loc[self.train_data[\"Attrition\"] == 0, feature].count()\n",
    "  \n",
    "  def predict(self, test_df):\n",
    "    pass\n",
    "\n",
    "features = [\"Age\", \"MonthlyIncome\", \"DistanceFromHome\", \"JobRole\", \"HourlyRate\"] + [\"Attrition\"]"
   ]
  },
  {
   "cell_type": "markdown",
   "metadata": {},
   "source": [
    "## T12\n",
    "\n",
    "Use the learned distributions to classify the test set. Report the results using the same metric as the previous question.\n",
    "\n",
    "**Baseline comparison**\n",
    "\n",
    "In machine learning, we need to be able to evaluate how good our model is. We usually compare our model with a different model and show that our model is better. Sometimes we do not have a candidate model to evaluate our method against. In this homework, we will look at two simple baselines, the random choice, and the majority rule."
   ]
  },
  {
   "cell_type": "markdown",
   "metadata": {},
   "source": [
    "## T13\n",
    "\n",
    "The random choice baseline is the accuracy if you make a random guess for each test sample. Give random guess (50% leaving, and 50% staying) to the test samples. Report the overall Accuracy. Then, report the Precision, Recall, and F score for attrition prediction using the random choice baseline."
   ]
  },
  {
   "cell_type": "markdown",
   "metadata": {},
   "source": [
    "## T14\n",
    "\n",
    "The majority rule is the accuracy if you use the most frequent class from the training set as the classification decision. Report the overall Accuracy. Then, report the Precision, Recall, and F score for attrition prediction using the majority rule baseline."
   ]
  },
  {
   "cell_type": "markdown",
   "metadata": {},
   "source": [
    "## T15\n",
    "\n",
    "Compare the two baselines with your Naive Bayes classifier.\n",
    "\n",
    "**Threshold finding**\n",
    "\n",
    "In practice, instead of comparing `lH(x)` against 0, we usually compare against a threshold, t. We can change the threshold so that we maximize the accuracy,\n",
    "precision, recall, or F score (depending on which measure we want to optimize)."
   ]
  },
  {
   "cell_type": "markdown",
   "metadata": {},
   "source": [
    "## T16\n",
    "\n",
    "Use the following threshold values\n",
    "\n",
    "`t = np.arange(-5,5,0.05)`\n",
    "\n",
    "find the best accuracy, and F score (and the corresponding thresholds)\n",
    "\n",
    "**Receiver Operating Characteristic (RoC) curve**\n",
    "\n",
    "The recall rate (true positive rate) and the false alarm rate can change as we vary the threshold. The false alarm rate will deteriorate as we decrease the\n",
    "threshold (more false alarms). On the other hand, the recall rate will improve. This is also another trade-off machine learning practitioners need to consider. If we plot the false alarm vs recall as we vary the threshold (false alarm as the x-axis and recall as the y-axis), we get a plot called the ”Receiver operating characteristic (RoC) curve.” The RoC curve illustrates the performance of a\n",
    "binary classifier (Will this person leave? Will this person survive the Titanic?\n",
    "yes or no) as the threshold is varied. An example RoC curve is shown below"
   ]
  },
  {
   "cell_type": "markdown",
   "metadata": {},
   "source": [
    "## T17\n",
    "\n",
    "Plot the RoC of your classifier."
   ]
  },
  {
   "cell_type": "markdown",
   "metadata": {},
   "source": [
    "## T18\n",
    "\n",
    "Change the number of discretization bins to 5. What happens to the RoC curve? Which discretization is better? The number of discretization bins can be considered as a hyperparameter, and must be chosen by comparing the final performance."
   ]
  },
  {
   "cell_type": "markdown",
   "metadata": {},
   "source": [
    "## T19\n",
    "\n",
    "Submit your code (.py or .ipynb) on mycourseville.\n",
    "If you’ve made it this far, congratulations! you’ve just created simple models that can help HR deal with one of their biggest problems. Simple, isn’t it?\n",
    "This is a real world task with real implications, and I personally have been approached by big companies to help with this.\n",
    "\n",
    "**(Optional) Classifier Variance**\n",
    "\n",
    "Recall, in class, we talked about the variance of a classifier as the training set changes. In this section, we will evaluate our model if we shuffle the training and test data. This will give a measure whether our recognizer is good just because we are lucky (and give statistical significance to our experiments)."
   ]
  },
  {
   "cell_type": "markdown",
   "metadata": {},
   "source": [
    "## OT3\n",
    "\n",
    "Shuffle the database, and create new test and train sets. Redo the entire training and evaluation process 10 times (each time with a new training and test set). Calculate the mean and variance of the accuracy rate."
   ]
  }
 ],
 "metadata": {
  "interpreter": {
   "hash": "316b4b59e82953916264da13829cf771f4d288e638833076d94014477ae3cdae"
  },
  "kernelspec": {
   "display_name": "Python 3.7.12 64-bit ('3.7.12': pyenv)",
   "language": "python",
   "name": "python3"
  },
  "language_info": {
   "codemirror_mode": {
    "name": "ipython",
    "version": 3
   },
   "file_extension": ".py",
   "mimetype": "text/x-python",
   "name": "python",
   "nbconvert_exporter": "python",
   "pygments_lexer": "ipython3",
   "version": "3.7.12"
  },
  "orig_nbformat": 4
 },
 "nbformat": 4,
 "nbformat_minor": 2
}
