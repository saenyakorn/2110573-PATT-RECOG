{
 "cells": [
  {
   "cell_type": "markdown",
   "metadata": {},
   "source": [
    "# Hello Clustering\n",
    "\n",
    "Recall from lecture that K-means has two main steps: the points assignment\n",
    "step, and the mean update step. After the initialization of the centroids, we\n",
    "assign each data point to a centroid. Then, each centroids are updated by\n",
    "re-estimating the means.\n",
    "\n",
    "Concretely, if we are given N data points, x1, x2, ..., xN , and we would like\n",
    "to form K clusters. We do the following;\n",
    "\n",
    "1. **Initialization**: Pick K random data points as K centroid locations c1, c2, ..., cK .\n",
    "2. **Assign**: For each data point k, find the closest centroid. Assign that\n",
    "data point to the centroid. The distance used is typically Euclidean distance.\n",
    "3. **Update**: For each centroid, calculate the mean from the data points\n",
    "assigned to it.\n",
    "4. **Repeat**: repeat step 2 and 3 until the centroids stop changing (conver-gence).\n",
    "\n",
    "  Given the following data points in x-y coordinates (2 dimensional)\n",
    "\n",
    "\n",
    "| x   |  y   |\n",
    "| --- | ---  |\n",
    "| 1   |  2   |\n",
    "| 3   |  3   |\n",
    "| 2   |  2   |\n",
    "| 8   |  8   |\n",
    "| 6   |  6   |\n",
    "| 7   |  7   |\n",
    "| -3  |  -3  |\n",
    "| -2  |  -4  |\n",
    "| -7  |  -7  |\n"
   ]
  },
  {
   "cell_type": "code",
   "execution_count": 504,
   "id": "2f3fabf3",
   "metadata": {},
   "outputs": [],
   "source": [
    "# Install all modules\n",
    "import pandas as pd\n",
    "import numpy as np\n",
    "import matplotlib.pyplot as plt\n",
    "import copy"
   ]
  },
  {
   "cell_type": "code",
   "execution_count": 505,
   "metadata": {},
   "outputs": [],
   "source": [
    "# Initialize dataframe\n",
    "x = np.array([1, 3, 2, 8, 6, 7, -3, -2, -7])\n",
    "y = np.array([2, 3, 2, 8, 6, 7, -3, -4, -7])\n",
    "dataframe_points = pd.DataFrame({'x': x, 'y': y})"
   ]
  },
  {
   "cell_type": "code",
   "execution_count": 506,
   "metadata": {},
   "outputs": [
    {
     "data": {
      "text/html": [
       "<div>\n",
       "<style scoped>\n",
       "    .dataframe tbody tr th:only-of-type {\n",
       "        vertical-align: middle;\n",
       "    }\n",
       "\n",
       "    .dataframe tbody tr th {\n",
       "        vertical-align: top;\n",
       "    }\n",
       "\n",
       "    .dataframe thead th {\n",
       "        text-align: right;\n",
       "    }\n",
       "</style>\n",
       "<table border=\"1\" class=\"dataframe\">\n",
       "  <thead>\n",
       "    <tr style=\"text-align: right;\">\n",
       "      <th></th>\n",
       "      <th>x</th>\n",
       "      <th>y</th>\n",
       "    </tr>\n",
       "  </thead>\n",
       "  <tbody>\n",
       "    <tr>\n",
       "      <th>0</th>\n",
       "      <td>1</td>\n",
       "      <td>2</td>\n",
       "    </tr>\n",
       "    <tr>\n",
       "      <th>1</th>\n",
       "      <td>3</td>\n",
       "      <td>3</td>\n",
       "    </tr>\n",
       "    <tr>\n",
       "      <th>2</th>\n",
       "      <td>2</td>\n",
       "      <td>2</td>\n",
       "    </tr>\n",
       "    <tr>\n",
       "      <th>3</th>\n",
       "      <td>8</td>\n",
       "      <td>8</td>\n",
       "    </tr>\n",
       "    <tr>\n",
       "      <th>4</th>\n",
       "      <td>6</td>\n",
       "      <td>6</td>\n",
       "    </tr>\n",
       "    <tr>\n",
       "      <th>5</th>\n",
       "      <td>7</td>\n",
       "      <td>7</td>\n",
       "    </tr>\n",
       "    <tr>\n",
       "      <th>6</th>\n",
       "      <td>-3</td>\n",
       "      <td>-3</td>\n",
       "    </tr>\n",
       "    <tr>\n",
       "      <th>7</th>\n",
       "      <td>-2</td>\n",
       "      <td>-4</td>\n",
       "    </tr>\n",
       "    <tr>\n",
       "      <th>8</th>\n",
       "      <td>-7</td>\n",
       "      <td>-7</td>\n",
       "    </tr>\n",
       "  </tbody>\n",
       "</table>\n",
       "</div>"
      ],
      "text/plain": [
       "   x  y\n",
       "0  1  2\n",
       "1  3  3\n",
       "2  2  2\n",
       "3  8  8\n",
       "4  6  6\n",
       "5  7  7\n",
       "6 -3 -3\n",
       "7 -2 -4\n",
       "8 -7 -7"
      ]
     },
     "execution_count": 506,
     "metadata": {},
     "output_type": "execute_result"
    }
   ],
   "source": [
    "# Print dataframe\n",
    "dataframe_points"
   ]
  },
  {
   "cell_type": "code",
   "execution_count": 507,
   "metadata": {},
   "outputs": [
    {
     "data": {
      "image/png": "[encoded data removed]",
      "text/plain": [
       "<Figure size 432x288 with 1 Axes>"
      ]
     },
     "metadata": {
      "needs_background": "light"
     },
     "output_type": "display_data"
    }
   ],
   "source": [
    "# Plot dataframe\n",
    "plt.scatter(dataframe_points['x'], dataframe_points['y'])\n",
    "plt.show()"
   ]
  },
  {
   "cell_type": "code",
   "execution_count": 508,
   "metadata": {},
   "outputs": [],
   "source": [
    "# Create KMeans class\n",
    "class KMeans: \n",
    "  def __init__(self, points, starting_centriods):\n",
    "    self.points = points\n",
    "    self.centriods = starting_centriods\n",
    "    self.clusters = self.__find_clusters()\n",
    "    self.iterations = 0\n",
    "\n",
    "  # Find clusters\n",
    "  def __find_clusters(self):\n",
    "    # Copy data\n",
    "    centriods = self.centriods.copy()\n",
    "    points = self.points.copy()\n",
    "    # Initialize clusters\n",
    "    clusters = [[] for _ in range(len(centriods))]\n",
    "    # Find clusters\n",
    "    for point in points.to_numpy():\n",
    "      distances = []\n",
    "      for centroid in centriods.to_numpy():\n",
    "        # Calculate distance from each point to each centroid using Euclidean distance\n",
    "        distance = np.linalg.norm(point - centroid)\n",
    "        distances.append(distance)\n",
    "      # Assign point to cluster\n",
    "      clusters[np.argmin(distances)].append(point)\n",
    "    # Update clusters\n",
    "    self.clusters = clusters\n",
    "    # Return clusters\n",
    "    return clusters\n",
    "\n",
    "  # Update centriods\n",
    "  def __update_centriods(self):\n",
    "    # Copy data \n",
    "    centriods = self.centriods.copy()\n",
    "    clusters = self.clusters.copy()\n",
    "    # Update centriods\n",
    "    for i in range(len(clusters)):\n",
    "      clustered_points = clusters[i]\n",
    "      centriods.iloc[i] = np.mean(clustered_points, axis=0)\n",
    "    # Return updated centriods\n",
    "    return centriods\n",
    "\n",
    "  def run(self):\n",
    "    self.centriods = self.__update_centriods()\n",
    "    self.clusters = self.__find_clusters()\n",
    "    self.iterations += 1\n",
    "\n",
    "  def plot(self):\n",
    "    colors = ['violet', 'limegreen', 'skyblue']\n",
    "    darken_colors = ['indigo', 'green', 'blue']\n",
    "    for i in range(len(self.clusters)):\n",
    "      clustered_points = np.array(self.clusters[i])\n",
    "      plt.scatter(clustered_points[:, 0], clustered_points[:, 1], label=i, c=colors[i])\n",
    "      plt.scatter(self.centriods['x'][i], self.centriods['y'][i], marker='*', c=darken_colors[i])\n",
    "    plt.legend()\n",
    "    plt.show()"
   ]
  },
  {
   "cell_type": "markdown",
   "metadata": {},
   "source": [
    "# T1\n",
    "\n",
    "If the starting points are (3,3), (2,2), and (-3,-3). Describe each\n",
    "assign and update step. What are the points assigned? What are the updated\n",
    "centroids? You may do this calculation by hand or write a program to do it."
   ]
  },
  {
   "cell_type": "code",
   "execution_count": 509,
   "metadata": {},
   "outputs": [
    {
     "name": "stdout",
     "output_type": "stream",
     "text": [
      "   x  y\n",
      "0  3  3\n",
      "1  2  2\n",
      "2 -3 -3\n"
     ]
    },
    {
     "data": {
      "image/png": "[encoded data removed]",
      "text/plain": [
       "<Figure size 432x288 with 1 Axes>"
      ]
     },
     "metadata": {
      "needs_background": "light"
     },
     "output_type": "display_data"
    },
    {
     "name": "stdout",
     "output_type": "stream",
     "text": [
      "     x         y\n",
      "0  6.0  6.000000\n",
      "1  1.5  2.000000\n",
      "2 -4.0 -4.666667\n"
     ]
    },
    {
     "data": {
      "image/png": "[encoded data removed]",
      "text/plain": [
       "<Figure size 432x288 with 1 Axes>"
      ]
     },
     "metadata": {
      "needs_background": "light"
     },
     "output_type": "display_data"
    }
   ],
   "source": [
    "# Initialize centroids\n",
    "starting_centriods = pd.DataFrame({\n",
    "  'x': [3, 2, -3], \n",
    "  'y': [3, 2, -3]\n",
    "})\n",
    "kMeans = KMeans(dataframe_points, starting_centriods)\n",
    "print(kMeans.centriods)\n",
    "kMeans.plot()\n",
    "kMeans.run()\n",
    "print(kMeans.centriods)\n",
    "kMeans.plot()"
   ]
  },
  {
   "cell_type": "markdown",
   "metadata": {},
   "source": [
    "### Answer \n",
    "\n",
    "updated centroids คือ \n",
    "\n",
    "1. (6, 6)\n",
    "2. (1.5, 2)\n",
    "3. (-4, -4.67) ตามลำดับ"
   ]
  },
  {
   "cell_type": "markdown",
   "metadata": {},
   "source": [
    "# T2\n",
    "\n",
    "If the starting points are (-3,-3), (2,2), and (-7,-7), what happens?"
   ]
  },
  {
   "cell_type": "code",
   "execution_count": 510,
   "metadata": {},
   "outputs": [
    {
     "name": "stdout",
     "output_type": "stream",
     "text": [
      "   x  y\n",
      "0 -3 -3\n",
      "1  2  2\n",
      "2 -7 -7\n"
     ]
    },
    {
     "data": {
      "image/png": "[encoded data removed]",
      "text/plain": [
       "<Figure size 432x288 with 1 Axes>"
      ]
     },
     "metadata": {
      "needs_background": "light"
     },
     "output_type": "display_data"
    },
    {
     "name": "stdout",
     "output_type": "stream",
     "text": [
      "     x         y\n",
      "0 -2.5 -3.500000\n",
      "1  4.5  4.666667\n",
      "2 -7.0 -7.000000\n"
     ]
    },
    {
     "data": {
      "image/png": "[encoded data removed]",
      "text/plain": [
       "<Figure size 432x288 with 1 Axes>"
      ]
     },
     "metadata": {
      "needs_background": "light"
     },
     "output_type": "display_data"
    }
   ],
   "source": [
    "# Initialize centroids\n",
    "starting_centriods = pd.DataFrame({\n",
    "  'x': [-3, 2, -7], \n",
    "  'y': [-3, 2, -7]\n",
    "})\n",
    "kMeans = KMeans(dataframe_points, starting_centriods)\n",
    "print(kMeans.centriods)\n",
    "kMeans.plot()\n",
    "kMeans.run()\n",
    "print(kMeans.centriods)\n",
    "kMeans.plot()"
   ]
  },
  {
   "cell_type": "markdown",
   "metadata": {},
   "source": [
    "### Answer \n",
    "\n",
    "updated centroids คือ \n",
    "\n",
    "1. (-2.5, -3.5)\n",
    "2. (4.5, 4.67)\n",
    "3. (-7, -7) ตามลำดับ"
   ]
  },
  {
   "cell_type": "markdown",
   "metadata": {},
   "source": [
    "# T3\n",
    "\n",
    "Between the two starting set of points in the previous two questions,\n",
    "which one do you think is better? How would you measure the ‘goodness’ quality\n",
    "of a set of starting points?\n",
    "\n",
    "In general, it is important to try different sets of starting points when doing\n",
    "k-means."
   ]
  },
  {
   "cell_type": "markdown",
   "metadata": {},
   "source": [
    "แบบแรกจะดีกว่า เพราะสังเกตว่า แบบที่สองกลุ่มที่อยู่บนขวา กับกลุ่มที่อยู่แถวกลาง ๆ ถูกจัดให้อยู่ใน cluster เดียวกัน ซึ่งจริง ๆ แล้ว 2 กลุ้่มนี้แยกออกจากกันชัดเจน เมื่อมองด้วยตา \n",
    "\n",
    "โดยทั่วไปแล้ว การเลือกจุดเริ่มต้นของ centriods ค่อนข้างสำคัญ เพราะถ้าเราเลือก centroid ได้ไม่ดี เช่น centriod ไปกระจุกตัวอยู่แถว ๆ เดียวกัน จะทำให้ Algorithm ในการแบ่งกลุ่มทำงานได้ไม่ดีพอที่เราจะเอามาใช้ตีความต่อ"
   ]
  },
  {
   "cell_type": "markdown",
   "metadata": {},
   "source": [
    "# OT1\n",
    "\n",
    "What would be the best K for this question? Describe your reason-\n",
    "ing."
   ]
  },
  {
   "cell_type": "markdown",
   "metadata": {},
   "source": [
    "สำหรับโจทย์ข้อนี้น่าจะเป็น K = 4 เพราะเมื่อมองด้วยตาเปล่าเราจะเห็นว่ามี 4 กลุ่มแบ่งออกจากกันชัดเจน ไล่จากล่างซ้าย ขึ้นไปยัง บนขวา"
   ]
  },
  {
   "cell_type": "markdown",
   "metadata": {},
   "source": [
    "# My heart will go on\n",
    "\n",
    "In this part of the exercise we will work on the Titanic dataset provided by\n",
    "Kaggle. The Titanic dataset contains information of the passengers boarding the Titanic on its final voyage. We will work on predicting whether a given passenger will survive the trip.\n",
    "\n",
    "Let’s launch Jupyter and start coding!\n",
    "We start by importing the data using Pandas\n",
    "\n",
    "```\n",
    "train_url = \"http://s3.amazonaws.com/assets.datacamp.com/course/Kaggle/train.csv\"\n",
    "train = pd.read_csv(train_url) #training set\n",
    "```\n",
    "\n",
    "```\n",
    "test_url = \"http://s3.amazonaws.com/assets.datacamp.com/course/Kaggle/test.csv\"\n",
    "test = pd.read_csv(test_url) #test set\n",
    "```\n",
    "\n",
    "Both train and test are dataframes. Use the function train.head() and\n",
    "train.tail() to explore the data. What do you see?\n",
    "Use the function describe() to get a better understanding of the data.\n",
    "You can read the meaning of the data fields at https://www.kaggle.com/c/\n",
    "titanic/data \n",
    "\n",
    "Looking at the data, you will notice a lot of missing values. For example, some age is NaN. This is normal for real world data to have some missing values. There are several ways to handle missing values. The simplest is to throw away any rows that have missing values. However, this usually reduce the amount of training data you have. Another method is to guess what the missing value should be. The simplest guess is to use the Median or Mode of the data. For this exercise we will proceed with this."
   ]
  },
  {
   "cell_type": "code",
   "execution_count": 511,
   "metadata": {},
   "outputs": [],
   "source": [
    "# Install traning set and test set\n",
    "\n",
    "train_url = \"http://s3.amazonaws.com/assets.datacamp.com/course/Kaggle/train.csv\"\n",
    "train = pd.read_csv(train_url) #training set\n",
    "\n",
    "test_url = \"http://s3.amazonaws.com/assets.datacamp.com/course/Kaggle/test.csv\"\n",
    "test = pd.read_csv(test_url) #test set\n",
    "\n",
    "# Define dataset\n",
    "dataset = [train, test] "
   ]
  },
  {
   "cell_type": "code",
   "execution_count": 512,
   "metadata": {},
   "outputs": [
    {
     "data": {
      "text/html": [
       "<div>\n",
       "<style scoped>\n",
       "    .dataframe tbody tr th:only-of-type {\n",
       "        vertical-align: middle;\n",
       "    }\n",
       "\n",
       "    .dataframe tbody tr th {\n",
       "        vertical-align: top;\n",
       "    }\n",
       "\n",
       "    .dataframe thead th {\n",
       "        text-align: right;\n",
       "    }\n",
       "</style>\n",
       "<table border=\"1\" class=\"dataframe\">\n",
       "  <thead>\n",
       "    <tr style=\"text-align: right;\">\n",
       "      <th></th>\n",
       "      <th>PassengerId</th>\n",
       "      <th>Survived</th>\n",
       "      <th>Pclass</th>\n",
       "      <th>Name</th>\n",
       "      <th>Sex</th>\n",
       "      <th>Age</th>\n",
       "      <th>SibSp</th>\n",
       "      <th>Parch</th>\n",
       "      <th>Ticket</th>\n",
       "      <th>Fare</th>\n",
       "      <th>Cabin</th>\n",
       "      <th>Embarked</th>\n",
       "    </tr>\n",
       "  </thead>\n",
       "  <tbody>\n",
       "    <tr>\n",
       "      <th>0</th>\n",
       "      <td>1</td>\n",
       "      <td>0</td>\n",
       "      <td>3</td>\n",
       "      <td>Braund, Mr. Owen Harris</td>\n",
       "      <td>male</td>\n",
       "      <td>22.0</td>\n",
       "      <td>1</td>\n",
       "      <td>0</td>\n",
       "      <td>A/5 21171</td>\n",
       "      <td>7.2500</td>\n",
       "      <td>NaN</td>\n",
       "      <td>S</td>\n",
       "    </tr>\n",
       "    <tr>\n",
       "      <th>1</th>\n",
       "      <td>2</td>\n",
       "      <td>1</td>\n",
       "      <td>1</td>\n",
       "      <td>Cumings, Mrs. John Bradley (Florence Briggs Th...</td>\n",
       "      <td>female</td>\n",
       "      <td>38.0</td>\n",
       "      <td>1</td>\n",
       "      <td>0</td>\n",
       "      <td>PC 17599</td>\n",
       "      <td>71.2833</td>\n",
       "      <td>C85</td>\n",
       "      <td>C</td>\n",
       "    </tr>\n",
       "    <tr>\n",
       "      <th>2</th>\n",
       "      <td>3</td>\n",
       "      <td>1</td>\n",
       "      <td>3</td>\n",
       "      <td>Heikkinen, Miss. Laina</td>\n",
       "      <td>female</td>\n",
       "      <td>26.0</td>\n",
       "      <td>0</td>\n",
       "      <td>0</td>\n",
       "      <td>STON/O2. 3101282</td>\n",
       "      <td>7.9250</td>\n",
       "      <td>NaN</td>\n",
       "      <td>S</td>\n",
       "    </tr>\n",
       "    <tr>\n",
       "      <th>3</th>\n",
       "      <td>4</td>\n",
       "      <td>1</td>\n",
       "      <td>1</td>\n",
       "      <td>Futrelle, Mrs. Jacques Heath (Lily May Peel)</td>\n",
       "      <td>female</td>\n",
       "      <td>35.0</td>\n",
       "      <td>1</td>\n",
       "      <td>0</td>\n",
       "      <td>113803</td>\n",
       "      <td>53.1000</td>\n",
       "      <td>C123</td>\n",
       "      <td>S</td>\n",
       "    </tr>\n",
       "    <tr>\n",
       "      <th>4</th>\n",
       "      <td>5</td>\n",
       "      <td>0</td>\n",
       "      <td>3</td>\n",
       "      <td>Allen, Mr. William Henry</td>\n",
       "      <td>male</td>\n",
       "      <td>35.0</td>\n",
       "      <td>0</td>\n",
       "      <td>0</td>\n",
       "      <td>373450</td>\n",
       "      <td>8.0500</td>\n",
       "      <td>NaN</td>\n",
       "      <td>S</td>\n",
       "    </tr>\n",
       "    <tr>\n",
       "      <th>5</th>\n",
       "      <td>6</td>\n",
       "      <td>0</td>\n",
       "      <td>3</td>\n",
       "      <td>Moran, Mr. James</td>\n",
       "      <td>male</td>\n",
       "      <td>NaN</td>\n",
       "      <td>0</td>\n",
       "      <td>0</td>\n",
       "      <td>330877</td>\n",
       "      <td>8.4583</td>\n",
       "      <td>NaN</td>\n",
       "      <td>Q</td>\n",
       "    </tr>\n",
       "    <tr>\n",
       "      <th>6</th>\n",
       "      <td>7</td>\n",
       "      <td>0</td>\n",
       "      <td>1</td>\n",
       "      <td>McCarthy, Mr. Timothy J</td>\n",
       "      <td>male</td>\n",
       "      <td>54.0</td>\n",
       "      <td>0</td>\n",
       "      <td>0</td>\n",
       "      <td>17463</td>\n",
       "      <td>51.8625</td>\n",
       "      <td>E46</td>\n",
       "      <td>S</td>\n",
       "    </tr>\n",
       "    <tr>\n",
       "      <th>7</th>\n",
       "      <td>8</td>\n",
       "      <td>0</td>\n",
       "      <td>3</td>\n",
       "      <td>Palsson, Master. Gosta Leonard</td>\n",
       "      <td>male</td>\n",
       "      <td>2.0</td>\n",
       "      <td>3</td>\n",
       "      <td>1</td>\n",
       "      <td>349909</td>\n",
       "      <td>21.0750</td>\n",
       "      <td>NaN</td>\n",
       "      <td>S</td>\n",
       "    </tr>\n",
       "    <tr>\n",
       "      <th>8</th>\n",
       "      <td>9</td>\n",
       "      <td>1</td>\n",
       "      <td>3</td>\n",
       "      <td>Johnson, Mrs. Oscar W (Elisabeth Vilhelmina Berg)</td>\n",
       "      <td>female</td>\n",
       "      <td>27.0</td>\n",
       "      <td>0</td>\n",
       "      <td>2</td>\n",
       "      <td>347742</td>\n",
       "      <td>11.1333</td>\n",
       "      <td>NaN</td>\n",
       "      <td>S</td>\n",
       "    </tr>\n",
       "    <tr>\n",
       "      <th>9</th>\n",
       "      <td>10</td>\n",
       "      <td>1</td>\n",
       "      <td>2</td>\n",
       "      <td>Nasser, Mrs. Nicholas (Adele Achem)</td>\n",
       "      <td>female</td>\n",
       "      <td>14.0</td>\n",
       "      <td>1</td>\n",
       "      <td>0</td>\n",
       "      <td>237736</td>\n",
       "      <td>30.0708</td>\n",
       "      <td>NaN</td>\n",
       "      <td>C</td>\n",
       "    </tr>\n",
       "  </tbody>\n",
       "</table>\n",
       "</div>"
      ],
      "text/plain": [
       "   PassengerId  Survived  Pclass  \\\n",
       "0            1         0       3   \n",
       "1            2         1       1   \n",
       "2            3         1       3   \n",
       "3            4         1       1   \n",
       "4            5         0       3   \n",
       "5            6         0       3   \n",
       "6            7         0       1   \n",
       "7            8         0       3   \n",
       "8            9         1       3   \n",
       "9           10         1       2   \n",
       "\n",
       "                                                Name     Sex   Age  SibSp  \\\n",
       "0                            Braund, Mr. Owen Harris    male  22.0      1   \n",
       "1  Cumings, Mrs. John Bradley (Florence Briggs Th...  female  38.0      1   \n",
       "2                             Heikkinen, Miss. Laina  female  26.0      0   \n",
       "3       Futrelle, Mrs. Jacques Heath (Lily May Peel)  female  35.0      1   \n",
       "4                           Allen, Mr. William Henry    male  35.0      0   \n",
       "5                                   Moran, Mr. James    male   NaN      0   \n",
       "6                            McCarthy, Mr. Timothy J    male  54.0      0   \n",
       "7                     Palsson, Master. Gosta Leonard    male   2.0      3   \n",
       "8  Johnson, Mrs. Oscar W (Elisabeth Vilhelmina Berg)  female  27.0      0   \n",
       "9                Nasser, Mrs. Nicholas (Adele Achem)  female  14.0      1   \n",
       "\n",
       "   Parch            Ticket     Fare Cabin Embarked  \n",
       "0      0         A/5 21171   7.2500   NaN        S  \n",
       "1      0          PC 17599  71.2833   C85        C  \n",
       "2      0  STON/O2. 3101282   7.9250   NaN        S  \n",
       "3      0            113803  53.1000  C123        S  \n",
       "4      0            373450   8.0500   NaN        S  \n",
       "5      0            330877   8.4583   NaN        Q  \n",
       "6      0             17463  51.8625   E46        S  \n",
       "7      1            349909  21.0750   NaN        S  \n",
       "8      2            347742  11.1333   NaN        S  \n",
       "9      0            237736  30.0708   NaN        C  "
      ]
     },
     "execution_count": 512,
     "metadata": {},
     "output_type": "execute_result"
    }
   ],
   "source": [
    "dataset[0].head(10)"
   ]
  },
  {
   "cell_type": "code",
   "execution_count": 513,
   "metadata": {},
   "outputs": [
    {
     "data": {
      "text/html": [
       "<div>\n",
       "<style scoped>\n",
       "    .dataframe tbody tr th:only-of-type {\n",
       "        vertical-align: middle;\n",
       "    }\n",
       "\n",
       "    .dataframe tbody tr th {\n",
       "        vertical-align: top;\n",
       "    }\n",
       "\n",
       "    .dataframe thead th {\n",
       "        text-align: right;\n",
       "    }\n",
       "</style>\n",
       "<table border=\"1\" class=\"dataframe\">\n",
       "  <thead>\n",
       "    <tr style=\"text-align: right;\">\n",
       "      <th></th>\n",
       "      <th>PassengerId</th>\n",
       "      <th>Pclass</th>\n",
       "      <th>Name</th>\n",
       "      <th>Sex</th>\n",
       "      <th>Age</th>\n",
       "      <th>SibSp</th>\n",
       "      <th>Parch</th>\n",
       "      <th>Ticket</th>\n",
       "      <th>Fare</th>\n",
       "      <th>Cabin</th>\n",
       "      <th>Embarked</th>\n",
       "    </tr>\n",
       "  </thead>\n",
       "  <tbody>\n",
       "    <tr>\n",
       "      <th>0</th>\n",
       "      <td>892</td>\n",
       "      <td>3</td>\n",
       "      <td>Kelly, Mr. James</td>\n",
       "      <td>male</td>\n",
       "      <td>34.5</td>\n",
       "      <td>0</td>\n",
       "      <td>0</td>\n",
       "      <td>330911</td>\n",
       "      <td>7.8292</td>\n",
       "      <td>NaN</td>\n",
       "      <td>Q</td>\n",
       "    </tr>\n",
       "    <tr>\n",
       "      <th>1</th>\n",
       "      <td>893</td>\n",
       "      <td>3</td>\n",
       "      <td>Wilkes, Mrs. James (Ellen Needs)</td>\n",
       "      <td>female</td>\n",
       "      <td>47.0</td>\n",
       "      <td>1</td>\n",
       "      <td>0</td>\n",
       "      <td>363272</td>\n",
       "      <td>7.0000</td>\n",
       "      <td>NaN</td>\n",
       "      <td>S</td>\n",
       "    </tr>\n",
       "    <tr>\n",
       "      <th>2</th>\n",
       "      <td>894</td>\n",
       "      <td>2</td>\n",
       "      <td>Myles, Mr. Thomas Francis</td>\n",
       "      <td>male</td>\n",
       "      <td>62.0</td>\n",
       "      <td>0</td>\n",
       "      <td>0</td>\n",
       "      <td>240276</td>\n",
       "      <td>9.6875</td>\n",
       "      <td>NaN</td>\n",
       "      <td>Q</td>\n",
       "    </tr>\n",
       "    <tr>\n",
       "      <th>3</th>\n",
       "      <td>895</td>\n",
       "      <td>3</td>\n",
       "      <td>Wirz, Mr. Albert</td>\n",
       "      <td>male</td>\n",
       "      <td>27.0</td>\n",
       "      <td>0</td>\n",
       "      <td>0</td>\n",
       "      <td>315154</td>\n",
       "      <td>8.6625</td>\n",
       "      <td>NaN</td>\n",
       "      <td>S</td>\n",
       "    </tr>\n",
       "    <tr>\n",
       "      <th>4</th>\n",
       "      <td>896</td>\n",
       "      <td>3</td>\n",
       "      <td>Hirvonen, Mrs. Alexander (Helga E Lindqvist)</td>\n",
       "      <td>female</td>\n",
       "      <td>22.0</td>\n",
       "      <td>1</td>\n",
       "      <td>1</td>\n",
       "      <td>3101298</td>\n",
       "      <td>12.2875</td>\n",
       "      <td>NaN</td>\n",
       "      <td>S</td>\n",
       "    </tr>\n",
       "    <tr>\n",
       "      <th>5</th>\n",
       "      <td>897</td>\n",
       "      <td>3</td>\n",
       "      <td>Svensson, Mr. Johan Cervin</td>\n",
       "      <td>male</td>\n",
       "      <td>14.0</td>\n",
       "      <td>0</td>\n",
       "      <td>0</td>\n",
       "      <td>7538</td>\n",
       "      <td>9.2250</td>\n",
       "      <td>NaN</td>\n",
       "      <td>S</td>\n",
       "    </tr>\n",
       "    <tr>\n",
       "      <th>6</th>\n",
       "      <td>898</td>\n",
       "      <td>3</td>\n",
       "      <td>Connolly, Miss. Kate</td>\n",
       "      <td>female</td>\n",
       "      <td>30.0</td>\n",
       "      <td>0</td>\n",
       "      <td>0</td>\n",
       "      <td>330972</td>\n",
       "      <td>7.6292</td>\n",
       "      <td>NaN</td>\n",
       "      <td>Q</td>\n",
       "    </tr>\n",
       "    <tr>\n",
       "      <th>7</th>\n",
       "      <td>899</td>\n",
       "      <td>2</td>\n",
       "      <td>Caldwell, Mr. Albert Francis</td>\n",
       "      <td>male</td>\n",
       "      <td>26.0</td>\n",
       "      <td>1</td>\n",
       "      <td>1</td>\n",
       "      <td>248738</td>\n",
       "      <td>29.0000</td>\n",
       "      <td>NaN</td>\n",
       "      <td>S</td>\n",
       "    </tr>\n",
       "    <tr>\n",
       "      <th>8</th>\n",
       "      <td>900</td>\n",
       "      <td>3</td>\n",
       "      <td>Abrahim, Mrs. Joseph (Sophie Halaut Easu)</td>\n",
       "      <td>female</td>\n",
       "      <td>18.0</td>\n",
       "      <td>0</td>\n",
       "      <td>0</td>\n",
       "      <td>2657</td>\n",
       "      <td>7.2292</td>\n",
       "      <td>NaN</td>\n",
       "      <td>C</td>\n",
       "    </tr>\n",
       "    <tr>\n",
       "      <th>9</th>\n",
       "      <td>901</td>\n",
       "      <td>3</td>\n",
       "      <td>Davies, Mr. John Samuel</td>\n",
       "      <td>male</td>\n",
       "      <td>21.0</td>\n",
       "      <td>2</td>\n",
       "      <td>0</td>\n",
       "      <td>A/4 48871</td>\n",
       "      <td>24.1500</td>\n",
       "      <td>NaN</td>\n",
       "      <td>S</td>\n",
       "    </tr>\n",
       "  </tbody>\n",
       "</table>\n",
       "</div>"
      ],
      "text/plain": [
       "   PassengerId  Pclass                                          Name     Sex  \\\n",
       "0          892       3                              Kelly, Mr. James    male   \n",
       "1          893       3              Wilkes, Mrs. James (Ellen Needs)  female   \n",
       "2          894       2                     Myles, Mr. Thomas Francis    male   \n",
       "3          895       3                              Wirz, Mr. Albert    male   \n",
       "4          896       3  Hirvonen, Mrs. Alexander (Helga E Lindqvist)  female   \n",
       "5          897       3                    Svensson, Mr. Johan Cervin    male   \n",
       "6          898       3                          Connolly, Miss. Kate  female   \n",
       "7          899       2                  Caldwell, Mr. Albert Francis    male   \n",
       "8          900       3     Abrahim, Mrs. Joseph (Sophie Halaut Easu)  female   \n",
       "9          901       3                       Davies, Mr. John Samuel    male   \n",
       "\n",
       "    Age  SibSp  Parch     Ticket     Fare Cabin Embarked  \n",
       "0  34.5      0      0     330911   7.8292   NaN        Q  \n",
       "1  47.0      1      0     363272   7.0000   NaN        S  \n",
       "2  62.0      0      0     240276   9.6875   NaN        Q  \n",
       "3  27.0      0      0     315154   8.6625   NaN        S  \n",
       "4  22.0      1      1    3101298  12.2875   NaN        S  \n",
       "5  14.0      0      0       7538   9.2250   NaN        S  \n",
       "6  30.0      0      0     330972   7.6292   NaN        Q  \n",
       "7  26.0      1      1     248738  29.0000   NaN        S  \n",
       "8  18.0      0      0       2657   7.2292   NaN        C  \n",
       "9  21.0      2      0  A/4 48871  24.1500   NaN        S  "
      ]
     },
     "execution_count": 513,
     "metadata": {},
     "output_type": "execute_result"
    }
   ],
   "source": [
    "dataset[1].head(10)"
   ]
  },
  {
   "cell_type": "code",
   "execution_count": 514,
   "metadata": {},
   "outputs": [
    {
     "name": "stdout",
     "output_type": "stream",
     "text": [
      "       PassengerId    Survived      Pclass         Age       SibSp  \\\n",
      "count   891.000000  891.000000  891.000000  714.000000  891.000000   \n",
      "mean    446.000000    0.383838    2.308642   29.699118    0.523008   \n",
      "std     257.353842    0.486592    0.836071   14.526497    1.102743   \n",
      "min       1.000000    0.000000    1.000000    0.420000    0.000000   \n",
      "25%     223.500000    0.000000    2.000000   20.125000    0.000000   \n",
      "50%     446.000000    0.000000    3.000000   28.000000    0.000000   \n",
      "75%     668.500000    1.000000    3.000000   38.000000    1.000000   \n",
      "max     891.000000    1.000000    3.000000   80.000000    8.000000   \n",
      "\n",
      "            Parch        Fare  \n",
      "count  891.000000  891.000000  \n",
      "mean     0.381594   32.204208  \n",
      "std      0.806057   49.693429  \n",
      "min      0.000000    0.000000  \n",
      "25%      0.000000    7.910400  \n",
      "50%      0.000000   14.454200  \n",
      "75%      0.000000   31.000000  \n",
      "max      6.000000  512.329200  \n",
      "       PassengerId      Pclass         Age       SibSp       Parch        Fare\n",
      "count   418.000000  418.000000  332.000000  418.000000  418.000000  417.000000\n",
      "mean   1100.500000    2.265550   30.272590    0.447368    0.392344   35.627188\n",
      "std     120.810458    0.841838   14.181209    0.896760    0.981429   55.907576\n",
      "min     892.000000    1.000000    0.170000    0.000000    0.000000    0.000000\n",
      "25%     996.250000    1.000000   21.000000    0.000000    0.000000    7.895800\n",
      "50%    1100.500000    3.000000   27.000000    0.000000    0.000000   14.454200\n",
      "75%    1204.750000    3.000000   39.000000    1.000000    0.000000   31.500000\n",
      "max    1309.000000    3.000000   76.000000    8.000000    9.000000  512.329200\n"
     ]
    }
   ],
   "source": [
    "for data in dataset: \n",
    "  print(data.describe())"
   ]
  },
  {
   "cell_type": "markdown",
   "metadata": {},
   "source": [
    "# T4 \n",
    "\n",
    "What is the median age of the training set? You can easily modify\n",
    "the age in the dataframe by"
   ]
  },
  {
   "cell_type": "code",
   "execution_count": 515,
   "metadata": {},
   "outputs": [],
   "source": [
    "for data in dataset:\n",
    "  data[\"Age\"] = data[\"Age\"].fillna(data[\"Age\"].median())"
   ]
  },
  {
   "cell_type": "code",
   "execution_count": 516,
   "metadata": {},
   "outputs": [],
   "source": [
    "# Normailize age\n",
    "for data in dataset:\n",
    "  data[\"Age\"] = (data[\"Age\"] - data[\"Age\"].min()) / (data[\"Age\"].max() - data[\"Age\"].min())"
   ]
  },
  {
   "cell_type": "markdown",
   "metadata": {},
   "source": [
    "# T5\n",
    "\n",
    "Some fields like ‘Embarked’ are categorical. They need to be converted\n",
    "to numbers first. We will represent S with 0, C with 1, and Q with 2. What is the mode of Embarked? Fill the missing values with the mode. You can set the value of Embarked easily with the following command\n",
    "\n",
    "Do the same for Sex."
   ]
  },
  {
   "cell_type": "code",
   "execution_count": 517,
   "metadata": {},
   "outputs": [],
   "source": [
    "# S = 0\n",
    "# C = 1\n",
    "# Q = 2\n",
    "for data in dataset:\n",
    "  data[\"Age\"] = data[\"Age\"].fillna(data[\"Age\"].median())\n",
    "  data.loc[data[\"Embarked\"] == \"S\", \"Embarked\"] = 0\n",
    "  data.loc[data[\"Embarked\"] == \"C\", \"Embarked\"] = 1\n",
    "  data.loc[data[\"Embarked\"] == \"Q\", \"Embarked\"] = 2\n",
    "  data[\"Embarked\"] = data[\"Embarked\"].fillna(data[\"Embarked\"].median())\n"
   ]
  },
  {
   "cell_type": "code",
   "execution_count": 518,
   "metadata": {},
   "outputs": [],
   "source": [
    "# male = 0\n",
    "# female = 1\n",
    "for data in dataset:\n",
    "  data.loc[data[\"Sex\"] == \"male\", \"Sex\"] = 0\n",
    "  data.loc[data[\"Sex\"] == \"female\", \"Sex\"] = 1"
   ]
  },
  {
   "cell_type": "markdown",
   "metadata": {},
   "source": [
    "# T7\n",
    "\n",
    "Write a logistic regression classifier using gradient descent as learned in class. Use PClass, Sex, Age, and Embarked as input features. You can extract the features from Pandas to Numpy by"
   ]
  },
  {
   "cell_type": "code",
   "execution_count": 520,
   "metadata": {},
   "outputs": [],
   "source": [
    "# Define cleaned data\n",
    "\n",
    "train_df = copy.deepcopy(dataset)[0]\n",
    "test_df  = copy.deepcopy(dataset)[1]\n",
    "\n",
    "train_data = np.array(train_df[[\"Pclass\",\"Sex\",\"Age\",\"Embarked\"]].values, dtype = float)\n",
    "test_data = np.array(test_df[[\"Pclass\",\"Sex\",\"Age\",\"Embarked\"]].values, dtype = float)\n",
    "\n",
    "train_y = np.array(train_df[[\"Survived\"]].values, dtype = float)\n",
    "train_y = train_y.reshape(train_y.size)"
   ]
  },
  {
   "cell_type": "code",
   "execution_count": 575,
   "metadata": {},
   "outputs": [],
   "source": [
    "# Define sigmoid function\n",
    "def sigmoid(x):\n",
    "  return np.array(np.exp(x)/(1+np.exp(x)))\n",
    "# Define cost function\n",
    "def cost(theta, data, y):\n",
    "  m = data.shape[0]\n",
    "  predictions = np.array(sigmoid(np.dot(data, theta)))\n",
    "  cost = -(1/m)*(np.dot(y, np.log(predictions.T+1e-5)) + np.dot((1-y), np.log(1-predictions.T+1e-5)))\n",
    "  return cost\n",
    "# Define gradient function\n",
    "def gradient(theta, data, y):\n",
    "  m = data.shape[0]\n",
    "  predictions = sigmoid(np.dot(data, theta))\n",
    "  error = predictions - y\n",
    "  gradient = (1/m)*np.dot(data.T, error)\n",
    "  return gradient\n",
    "# Define gradient descent function\n",
    "def gradient_descent(theta, data, y, alpha, iteration=10000):\n",
    "  cost_history = []\n",
    "  for _ in range(iteration):\n",
    "    cost_history.append(cost(theta, data, y))\n",
    "    theta = theta - alpha*gradient(theta, data, y)\n",
    "  return theta, cost_history\n",
    "def predict(data, theta, raw):\n",
    "  predictions = np.array(sigmoid(np.dot(data, theta)))\n",
    "  predictions = np.where(predictions >  0.5, 1, predictions)\n",
    "  predictions = np.where(predictions <= 0.5, 0, predictions)\n",
    "  predictions = np.array(predictions, dtype = int)\n",
    "  print(\"Survived\", np.count_nonzero(predictions))\n",
    "  result = pd.DataFrame({\n",
    "    \"PassengerId\": raw[\"PassengerId\"],\n",
    "    \"Survived\": predictions\n",
    "  })\n",
    "  return result\n",
    "def compare_prediction(actual, prediction):\n",
    "  df = pd.DataFrame({\n",
    "    \"Actual\": actual,\n",
    "    \"Prediction\": prediction,\n",
    "    \"Compare\": actual == prediction\n",
    "  })\n",
    "  return df[\"Compare\"].sum()/len(actual)"
   ]
  },
  {
   "cell_type": "code",
   "execution_count": 576,
   "metadata": {},
   "outputs": [
    {
     "data": {
      "image/png": "[encoded data removed]",
      "text/plain": [
       "<Figure size 432x288 with 1 Axes>"
      ]
     },
     "metadata": {
      "needs_background": "light"
     },
     "output_type": "display_data"
    },
    {
     "name": "stdout",
     "output_type": "stream",
     "text": [
      "[-0.73950924  2.48933266  0.07381498  0.33397536]\n"
     ]
    }
   ],
   "source": [
    "# Initialize features number\n",
    "features = train_data.shape[1]\n",
    "# Random pick theta\n",
    "theta = np.random.random(features)\n",
    "# Initialize learning rate\n",
    "alpha = 0.007\n",
    "# Run gradient descent\n",
    "theta, cost_history = gradient_descent(theta, train_data, train_y, alpha)\n",
    "# Plot cost history\n",
    "plt.plot(cost_history)\n",
    "plt.ylabel('Cost')\n",
    "plt.xlabel('Iterations')\n",
    "plt.show()\n",
    "\n",
    "print(theta)"
   ]
  },
  {
   "cell_type": "code",
   "execution_count": 577,
   "metadata": {},
   "outputs": [
    {
     "name": "stdout",
     "output_type": "stream",
     "text": [
      "Train Survived 342\n",
      "Survived 314\n",
      "Accuracy 0.7867564534231201\n",
      "Survived 152\n"
     ]
    }
   ],
   "source": [
    "print(\"Train Survived\", np.count_nonzero(train[\"Survived\"]))\n",
    "result = predict(train_data, theta, train_df)\n",
    "print(\"Accuracy\", compare_prediction(train_y, result[\"Survived\"]))\n",
    "result = predict(test_data, theta, test_df)\n",
    "result.to_csv(\"./result.csv\", index = False)"
   ]
  },
  {
   "cell_type": "markdown",
   "metadata": {},
   "source": [
    "### My predictions score\n",
    "\n",
    "<img src=\"./predictions_screenshot.png\">"
   ]
  },
  {
   "cell_type": "markdown",
   "metadata": {},
   "source": [
    "# T8\n",
    "\n",
    "Try adding some higher order features to your training (x21, x1x2,...).\n",
    "Does this model has better accuracy on the training set? How does it\n",
    "perform on the test set?"
   ]
  },
  {
   "cell_type": "code",
   "execution_count": 604,
   "metadata": {},
   "outputs": [],
   "source": [
    "dataset[0][\"Name\"].to_csv(\"./train_name.csv\", index = False)"
   ]
  },
  {
   "cell_type": "code",
   "execution_count": 625,
   "metadata": {},
   "outputs": [
    {
     "name": "stdout",
     "output_type": "stream",
     "text": [
      "Mr        240\n",
      "Miss       78\n",
      "Mrs        72\n",
      "Master     21\n",
      "Col         2\n",
      "Rev         2\n",
      "Ms          1\n",
      "Dr          1\n",
      "Dona        1\n",
      "Name: 0, dtype: int64\n"
     ]
    }
   ],
   "source": [
    "title = dataset[1][\"Name\"].str.split(\", \", expand = True)[1].str.split(\".\", expand = True)[0]\n",
    "print(title.value_counts())"
   ]
  },
  {
   "cell_type": "code",
   "execution_count": 626,
   "metadata": {},
   "outputs": [],
   "source": [
    "title_mapping = {\n",
    "  \"Dr\": \"Officer\",\n",
    "  \"Col\": \"Officer\",\n",
    "  \"Rev\": \"Officer\",\n",
    "  \"Dona\": \"Royalty\",\n",
    "  \"Ms\": \"Mrs\",\n",
    "  \"Mlle\": \"Miss\",\n",
    "  \"Mrs\": \"Mrs\",\n",
    "  \"Mr\": \"Mr\",\n",
    "  \"Miss\": \"Miss\",\n",
    "  \"Master\": \"Master\"\n",
    "}"
   ]
  },
  {
   "cell_type": "code",
   "execution_count": 660,
   "metadata": {},
   "outputs": [
    {
     "data": {
      "text/plain": [
       "array([[1, 3, 0, ..., 1, 0, 0],\n",
       "       [2, 1, 1, ..., 0, 1, 0],\n",
       "       [3, 3, 1, ..., 0, 0, 0],\n",
       "       ...,\n",
       "       [889, 3, 1, ..., 0, 0, 0],\n",
       "       [890, 1, 0, ..., 1, 0, 0],\n",
       "       [891, 3, 0, ..., 1, 0, 0]], dtype=object)"
      ]
     },
     "metadata": {},
     "output_type": "display_data"
    },
    {
     "data": {
      "text/plain": [
       "array([[892, 3, 0, ..., 0, 0, 0],\n",
       "       [893, 3, 1, ..., 1, 0, 0],\n",
       "       [894, 2, 0, ..., 0, 0, 0],\n",
       "       ...,\n",
       "       [1307, 3, 0, ..., 0, 0, 0],\n",
       "       [1308, 3, 0, ..., 0, 0, 0],\n",
       "       [1309, 3, 0, ..., 0, 0, 0]], dtype=object)"
      ]
     },
     "metadata": {},
     "output_type": "display_data"
    },
    {
     "name": "stderr",
     "output_type": "stream",
     "text": [
      "/Users/saenyakorn/.pyenv/versions/3.7.12/lib/python3.7/site-packages/ipykernel_launcher.py:3: RuntimeWarning: overflow encountered in exp\n",
      "  This is separate from the ipykernel package so we can avoid doing imports until\n",
      "/Users/saenyakorn/.pyenv/versions/3.7.12/lib/python3.7/site-packages/ipykernel_launcher.py:3: RuntimeWarning: invalid value encountered in true_divide\n",
      "  This is separate from the ipykernel package so we can avoid doing imports until\n"
     ]
    },
    {
     "data": {
      "image/png": "[encoded data removed]",
      "text/plain": [
       "<Figure size 432x288 with 1 Axes>"
      ]
     },
     "metadata": {
      "needs_background": "light"
     },
     "output_type": "display_data"
    },
    {
     "name": "stdout",
     "output_type": "stream",
     "text": [
      "[nan nan nan nan nan nan nan nan nan nan nan nan nan nan nan nan nan nan\n",
      " nan nan nan nan nan nan nan]\n",
      "0    549\n",
      "1    342\n",
      "Name: Survived, dtype: int64\n",
      "Survived 891\n",
      "Accuracy 0.0\n",
      "Survived 418\n"
     ]
    }
   ],
   "source": [
    "# Copy dataset\n",
    "dataset_1 = copy.deepcopy(dataset)\n",
    "data_1 = []\n",
    "cabin = []\n",
    "for i in range(ord('A'), ord('Z')+1):\n",
    "  cabin.append(\"Cabin_\" + chr(i))\n",
    "\n",
    "# Add new features\n",
    "for i in range(len(dataset_1)):\n",
    "  d = dataset_1[i]\n",
    "  d.replace('', np.nan, inplace=True)\n",
    "  d[\"Age*Class\"] = d[\"Age\"]*d[\"Pclass\"]\n",
    "  d[\"SibSp\"].fillna(0)\n",
    "  d[\"Parch\"].fillna(0)\n",
    "  d[\"Family_Size\"] = d[\"SibSp\"]+d[\"Parch\"]+1\n",
    "  d[\"Fare\"].fillna(d[\"Fare\"].median())\n",
    "  d[\"Fare_Per_Person\"] = d[\"Fare\"]/d[\"Family_Size\"]\n",
    "  d[\"Fare_Per_Person\"] = (d[\"Fare_Per_Person\"] - d[\"Fare_Per_Person\"].min()) / (d[\"Fare_Per_Person\"].max() - d[\"Fare_Per_Person\"].min())\n",
    "  d[\"Cabin\"].fillna(\"U\", inplace = True)\n",
    "  d[\"Cabin\"] = d[\"Cabin\"].apply(lambda x: x[0])\n",
    "  cabin_dummies = pd.get_dummies(d[\"Cabin\"], prefix = \"Cabin\")\n",
    "  d = d.join(cabin_dummies)\n",
    "  d[\"Title\"] = d[\"Name\"].str.split(\", \", expand = True)[1].str.split(\".\", expand = True)[0]\n",
    "  d[\"Title\"] = d[\"Title\"].map(title_mapping)\n",
    "  title_dummies = pd.get_dummies(d[\"Title\"], prefix = \"Title\")\n",
    "  d = d.join(title_dummies)\n",
    "  display(d.drop(columns=[\"Survived\",\"Ticket\",\"Name\",\"Title\",\"Cabin\"], errors=\"ignore\").values)\n",
    "  dx = d.drop(columns=[\"Survived\",\"Ticket\",\"Name\",\"Title\",\"Cabin\"], errors=\"ignore\").values\n",
    "  dx.to_csv(\"./data_{}.csv\".format(i), index = False)\n",
    "  data_1.append(np.array(dx, dtype = float))\n",
    "\n",
    "# Extract dataset\n",
    "train_data_1 = data_1[0]\n",
    "test_data_1  = data_1[1]\n",
    "\n",
    "# Initialize features number\n",
    "features_1 = train_data_1.shape[1]\n",
    "# Random pick theta\n",
    "theta_1 = np.random.random(features_1)\n",
    "\n",
    "train_y_1 = np.array(train[[\"Survived\"]].values, dtype = float)\n",
    "train_y_1 = train_y_1.reshape(train_y_1.size)\n",
    "\n",
    "# Initialize learning rate\n",
    "alpha = 0.005\n",
    "iteration = 50000\n",
    "\n",
    "# Run gradient descent\n",
    "theta_1, cost_history = gradient_descent(theta_1, train_data_1, train_y_1, alpha, iteration)\n",
    "# Plot cost history\n",
    "plt.plot(cost_history)\n",
    "plt.ylabel('Cost')\n",
    "plt.xlabel('Iterations')\n",
    "plt.show()\n",
    "\n",
    "# Print theta\n",
    "print(theta_1)\n",
    "\n",
    "# Predict test set\n",
    "print(dataset_1[0][\"Survived\"].value_counts())\n",
    "result = predict(train_data_1, theta_1, dataset_1[0])\n",
    "print(\"Accuracy\", compare_prediction(train_y_1, result[\"Survived\"]))\n",
    "result = predict(test_data_1, theta_1, dataset_1[1])\n",
    "result.to_csv(\"./result_1.csv\", index = False)"
   ]
  },
  {
   "cell_type": "markdown",
   "metadata": {},
   "source": [
    "### Answer \n",
    "\n",
    "การทำนายที่ได้ fit กับ train data มากขึ้น แต่เมื่อลองส่งไปแล้วพบว่าคะแนนความถูกต้องลดลง (Overfitting) แต่เมื่อลองเอา Fare per person ออกพบว่าการทำนายได้คะแนนเพิ่มขึ้นดังรูป\n",
    "\n",
    "<img src=\"predictions_screenshot_1.png\" />"
   ]
  },
  {
   "cell_type": "markdown",
   "metadata": {},
   "source": [
    "# T9\n",
    "\n",
    "What happens if you reduce the amount of features to just Sex and\n",
    "Age?"
   ]
  },
  {
   "cell_type": "code",
   "execution_count": 564,
   "metadata": {},
   "outputs": [
    {
     "data": {
      "image/png": "[encoded data removed]",
      "text/plain": [
       "<Figure size 432x288 with 1 Axes>"
      ]
     },
     "metadata": {
      "needs_background": "light"
     },
     "output_type": "display_data"
    },
    {
     "name": "stdout",
     "output_type": "stream",
     "text": [
      "[-3.23752429  2.23751753]\n",
      "0    549\n",
      "1    342\n",
      "Name: Survived, dtype: int64\n",
      "Survived 305\n",
      "Accuracy 0.7789001122334456\n",
      "Survived 138\n"
     ]
    }
   ],
   "source": [
    "# Copy dataset\n",
    "dataset_2 = copy.deepcopy(dataset)\n",
    "data_2 = []\n",
    "\n",
    "# Add new features\n",
    "for i in range(len(dataset_2)):\n",
    "  d = dataset_2[i]\n",
    "  data_2.append(np.array(d[[\"Age\",\"Sex\"]].values, dtype = float))\n",
    "\n",
    "# Extract dataset\n",
    "train_data_2 = data_2[0]\n",
    "test_data_2  = data_2[1]\n",
    "\n",
    "# Initialize features number\n",
    "features_2 = train_data_2.shape[1]\n",
    "# Random pick theta\n",
    "theta_2 = np.random.random(features_2)\n",
    "\n",
    "train_y_2 = np.array(train[[\"Survived\"]].values, dtype = float)\n",
    "train_y_2 = train_y_1.reshape(train_y_2.size)\n",
    "\n",
    "# Initialize learning rate\n",
    "alpha = 0.1\n",
    "iteration = 50000\n",
    "\n",
    "# Run gradient descent\n",
    "theta_2, cost_history = gradient_descent(theta_2, train_data_2, train_y_2, alpha, iteration)\n",
    "# Plot cost history\n",
    "plt.plot(cost_history)\n",
    "plt.ylabel('Cost')\n",
    "plt.xlabel('Iterations')\n",
    "plt.show()\n",
    "\n",
    "# Print theta\n",
    "print(theta_2)\n",
    "\n",
    "# Predict test set\n",
    "print(dataset_2[0][\"Survived\"].value_counts())\n",
    "result = predict(train_data_2, theta_2, dataset_2[0])\n",
    "print(\"Accuracy\", compare_prediction(train_y_2, result[\"Survived\"]))\n",
    "result = predict(test_data_2, theta_2, dataset_2[1])"
   ]
  },
  {
   "cell_type": "markdown",
   "metadata": {},
   "source": [
    "# Answer \n",
    "\n",
    "Model ทำนายว่าผู้โดยสารแทบทุกคนรอดหมด ซึ่งไม่ตรงกับข้อมูลที่ใช้ train เลย ขาดความแม่นยำมาก ๆ เพราะข้อมูลต่อการทำนายไมเพียงพอ"
   ]
  }
 ],
 "metadata": {
  "interpreter": {
   "hash": "316b4b59e82953916264da13829cf771f4d288e638833076d94014477ae3cdae"
  },
  "kernelspec": {
   "display_name": "Python 3.7.12 64-bit ('3.7.12': pyenv)",
   "language": "python",
   "name": "python3"
  },
  "language_info": {
   "codemirror_mode": {
    "name": "ipython",
    "version": 3
   },
   "file_extension": ".py",
   "mimetype": "text/x-python",
   "name": "python",
   "nbconvert_exporter": "python",
   "pygments_lexer": "ipython3",
   "version": "3.7.12"
  },
  "orig_nbformat": 4
 },
 "nbformat": 4,
 "nbformat_minor": 2
}
