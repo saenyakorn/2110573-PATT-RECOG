{
 "cells": [
  {
   "cell_type": "markdown",
   "metadata": {},
   "source": [
    "# Homework 5 CNNs and RNNs\n",
    "\n",
    "## Instructions\n",
    "\n",
    "Answer the questions and upload your answers to courseville. Answers can be in Thai or English. Answers can be either typed or handwritten and scanned. The assignment is divided into several small tasks. Each task is weighted equally (marked with T). For this assignment, each task is awarded equally.There are also optional tasks (marked with OT) counts for half of the required task.\n",
    "\n",
    "\n",
    "## The Basics\n",
    "\n",
    "In this section, we will review some of the basic materials taught in class. These are simple tasks and integral to the understanding of deep neural networks, but many students seem to misunderstand.\n",
    "\n"
   ]
  },
  {
   "cell_type": "markdown",
   "metadata": {},
   "source": [
    "## T1\n",
    "\n",
    "Given the following CNN architecture specifications, determine the\n",
    "size of all the intermediate feature maps."
   ]
  },
  {
   "cell_type": "markdown",
   "metadata": {},
   "source": [
    "## Answer\n",
    "\n",
    "A = 5 x 98 x 98\n",
    "\n",
    "B = 10 x 96 x 96\n",
    "\n",
    "C = 1 x 46 x 46\n",
    "\n",
    "D = 10 x 96 x 96\n",
    "\n",
    "E = 5 x 96 x 96"
   ]
  },
  {
   "cell_type": "markdown",
   "metadata": {},
   "source": [
    "## OT1\n",
    "\n",
    "Note how at point B and D we have feature maps of the same size.\n",
    "If you think carefully, having 3x3 followed by 3x3 will cover a region of 5x5 in the input. This is why in Inception v2, the 5x5 convolution is replaced by two 3x3 convolutions. \n",
    "\n",
    "- Compute the amount of multiplies to compute A and B. \n",
    "- Compare it to the amount of multiplies to compute D. \n",
    "- Compute the amount of parameters in the path to A and B. \n",
    "- Compare it to the amount of parameters in path to D."
   ]
  },
  {
   "cell_type": "markdown",
   "metadata": {},
   "source": [
    "## Answer\n",
    "\n",
    "#### 1\n",
    "- Filter 3 x 3 compute 5 x 98 x 98 times - So amount of multiplies = (3 x 3 x 3) x (5 x 98 x 98) = 1296540\n",
    "- Filter 3 x 3 compute 10 x 96 x 96 times \n",
    "- So amount of multiplies = (3 x 3 x 3) x (10 x 96 x 96) = 2488320\n",
    "- Total = 3784860\n",
    "\n",
    "#### 2\n",
    "\n",
    "- Filter 5 x 5 compute 10 x 98 x 98 times\n",
    "- So amount of multiples = (5 x 5 x 5) x (10 x 96 x 96) = 11520000\n",
    "- Multiplies time of AB is less than multiplies times of D \n",
    "\n",
    "#### 3\n",
    "- 5 filters, 3x3, so #parameters = 5 x 3 x 3 = 45\n",
    "- 10 filters, 3x3, so #parameters = 10 x 3 x 3 = 90\n",
    "- Total = 135\n",
    "\n",
    "\n",
    "#### 4\n",
    "- 10 filters, 5x5, so #parameters = 10 x 5 x 5 = 250\n",
    "- Number of parameters of AB is less than number of parameters of D\n"
   ]
  },
  {
   "cell_type": "markdown",
   "metadata": {},
   "source": [
    "## T2 \n",
    "\n",
    "Consider a CNN with the following layers:\n",
    "\n",
    "1. conv2d layer with 5x5, stride 1\n",
    "\n",
    "2. maxpooling of size 3x3 (stride is usually the same as the size for pooling layers)\n",
    "\n",
    "3. conv2d layer with 7x7, stride 2\n",
    "\n",
    "4. max pooling of size 2x2\n",
    "\n",
    "5. conv2d layer with 3x3, stride 1\n",
    "\n",
    "What is the receptive field of this network?\n",
    "\n"
   ]
  },
  {
   "cell_type": "markdown",
   "metadata": {},
   "source": [
    "### Answer\n",
    "\n",
    "\n",
    "1 x 1 in the last layer\n",
    "\n",
    "= 3 x 3 in step 5\n",
    "\n",
    "= 6 x 6 in step 4\n",
    "\n",
    "= 17 x 17 in step 3\n",
    "\n",
    "= 51 x 51 in step 2\n",
    "\n",
    "= 55 x 55 in step 1"
   ]
  },
  {
   "cell_type": "markdown",
   "metadata": {},
   "source": [
    "## T3\n",
    "\n",
    "Can we use CNN on a time-related input (stride over time steps)?\n",
    "Discuss the different inductive biases imposed by the model when you use a single CNN layer on a time-related input vs. when you use a single GRU layer on a time-related input. Come up with an example when one might be better than the other.\n",
    "\n"
   ]
  },
  {
   "cell_type": "markdown",
   "metadata": {},
   "source": [
    "## Answer"
   ]
  },
  {
   "cell_type": "markdown",
   "metadata": {},
   "source": [
    "## Rain Nowcasting\n",
    "\n",
    "In this section we will work on the task of rainfall prediction from weather satellite data using pytorch. The database is provided courtesy of the Thai Meteorological Department, and the satellite data is from the Himawari 9 Satellite. To work on this part, use google colab by accessing the link in github. **Happy coding**."
   ]
  }
 ],
 "metadata": {
  "language_info": {
   "name": "python"
  },
  "orig_nbformat": 4
 },
 "nbformat": 4,
 "nbformat_minor": 2
}
